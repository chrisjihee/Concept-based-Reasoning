{
 "cells": [
  {
   "cell_type": "markdown",
   "id": "d680961880222a81",
   "metadata": {},
   "source": [
    "# **Getting to know Llama 2: Everything you need to start building**\n",
    "Our goal in this session is to provide a guided tour of Llama 2, including understanding different Llama 2 models, how and where to access them, Generative AI and Chatbot architectures, prompt engineering, RAG (Retrieval Augmented Generation), Fine-tuning and more. All this is implemented with a starter code for you to take it and use it in your Llama 2 projects."
   ]
  },
  {
   "cell_type": "markdown",
   "id": "9c545e17b77f35ab",
   "metadata": {},
   "source": [
    "## **0 - Prerequisites**\n",
    "* Basic understanding of Large Language Models\n",
    "* Basic understanding of Python"
   ]
  },
  {
   "cell_type": "code",
   "id": "d87dc3a5a98e8f7f",
   "metadata": {
    "ExecuteTime": {
     "end_time": "2024-05-01T04:41:59.892628Z",
     "start_time": "2024-05-01T04:41:59.198449Z"
    }
   },
   "source": [
    "import base64\n",
    "from getpass import getpass\n",
    "\n",
    "import replicate\n",
    "from IPython.display import display, Image, Markdown, HTML\n",
    "\n",
    "from chrisbase.data import *\n",
    "from chrisbase.io import *\n",
    "from chrisbase.util import *\n",
    "\n",
    "\n",
    "def mm(graph):\n",
    "    graphbytes = graph.encode(\"ascii\")\n",
    "    base64_bytes = base64.b64encode(graphbytes)\n",
    "    base64_string = base64_bytes.decode(\"ascii\")\n",
    "    display(Image(url=\"https://mermaid.ink/img/\" + base64_string))\n",
    "\n",
    "\n",
    "def md(t):\n",
    "    display(Markdown(t))\n",
    "\n",
    "\n",
    "def html(t,\n",
    "         s=\"<div style='font-family:Arial; font-size:12pt;\"\n",
    "           \" padding:10px; margin-left:10px; margin-top:10px;\"\n",
    "           \" background-color:LightSkyBlue; border:3px solid MidnightBlue;'>\",\n",
    "         e=\"</div>\"):\n",
    "    display(HTML(s + t + e))\n",
    "\n",
    "\n",
    "def genai_app_arch():\n",
    "    mm(\"\"\"\n",
    "    flowchart TD\n",
    "        A[Users] --> B(Applications e.g. mobile, web)\n",
    "        B --> |Hosted API|C(Platforms e.g. Custom, HuggingFace, Replicate)\n",
    "        B -- optional --> E(Frameworks e.g. LangChain)\n",
    "        C-->|User Input|D[Llama 2]\n",
    "        D-->|Model Output|C\n",
    "        E --> C\n",
    "        classDef default fill:#CCE6FF,stroke:#84BCF5,textColor:#1C2B33,fontFamily:trebuchet ms;\n",
    "    \"\"\")\n",
    "\n",
    "\n",
    "def rag_arch():\n",
    "    mm(\"\"\"\n",
    "    flowchart TD\n",
    "        A[User Prompts] --> B(Frameworks e.g. LangChain)\n",
    "        B <--> |Database, Docs, XLS|C[fa:fa-database External Data]\n",
    "        B -->|API|D[Llama 2]\n",
    "        classDef default fill:#CCE6FF,stroke:#84BCF5,textColor:#1C2B33,fontFamily:trebuchet ms;\n",
    "    \"\"\")\n",
    "\n",
    "\n",
    "def llama2_family():\n",
    "    mm(\"\"\"\n",
    "    graph LR;\n",
    "        llama-2 --> llama-2-7b\n",
    "        llama-2 --> llama-2-13b\n",
    "        llama-2 --> llama-2-70b\n",
    "        llama-2-7b --> llama-2-7b-chat\n",
    "        llama-2-13b --> llama-2-13b-chat\n",
    "        llama-2-70b --> llama-2-70b-chat\n",
    "        classDef default fill:#CCE6FF,stroke:#84BCF5,textColor:#1C2B33,fontFamily:trebuchet ms;\n",
    "    \"\"\")\n",
    "\n",
    "\n",
    "def apps_and_llms():\n",
    "    mm(\"\"\"\n",
    "    graph LR;\n",
    "        users --> apps\n",
    "        apps --> frameworks\n",
    "        frameworks --> platforms\n",
    "        platforms --> Llama 2\n",
    "        classDef default fill:#CCE6FF,stroke:#84BCF5,textColor:#1C2B33,fontFamily:trebuchet ms;\n",
    "    \"\"\")\n",
    "\n",
    "\n",
    "def bot_arch():\n",
    "    mm(\"\"\"\n",
    "    graph LR;\n",
    "        user --> prompt\n",
    "        prompt --> i_safety\n",
    "        i_safety --> context\n",
    "        context --> Llama_2\n",
    "        Llama_2 --> output\n",
    "        output --> o_safety\n",
    "        i_safety --> memory\n",
    "        o_safety --> memory\n",
    "        memory --> context\n",
    "        o_safety --> user\n",
    "        classDef default fill:#CCE6FF,stroke:#84BCF5,textColor:#1C2B33,fontFamily:trebuchet ms;\n",
    "    \"\"\")\n",
    "\n",
    "\n",
    "def fine_tuned_arch():\n",
    "    mm(\"\"\"\n",
    "    graph LR;\n",
    "        Custom_Dataset --> Pre-trained_Llama\n",
    "        Pre-trained_Llama --> Fine-tuned_Llama\n",
    "        Fine-tuned_Llama --> RLHF\n",
    "        RLHF --> |Loss:Cross-Entropy|Fine-tuned_Llama\n",
    "        classDef default fill:#CCE6FF,stroke:#84BCF5,textColor:#1C2B33,fontFamily:trebuchet ms;\n",
    "    \"\"\")\n",
    "\n",
    "\n",
    "def load_data_faiss_arch():\n",
    "    mm(\"\"\"\n",
    "    graph LR;\n",
    "        documents --> textsplitter\n",
    "        textsplitter --> embeddings\n",
    "        embeddings --> vectorstore\n",
    "        classDef default fill:#CCE6FF,stroke:#84BCF5,textColor:#1C2B33,fontFamily:trebuchet ms;\n",
    "    \"\"\")\n",
    "\n",
    "\n",
    "def mem_context():\n",
    "    mm(\"\"\"\n",
    "    graph LR\n",
    "        context(text)\n",
    "        user_prompt --> context\n",
    "        instruction --> context\n",
    "        examples --> context\n",
    "        memory --> context\n",
    "        context --> tokenizer\n",
    "        tokenizer --> embeddings\n",
    "        embeddings --> LLM\n",
    "        classDef default fill:#CCE6FF,stroke:#84BCF5,textColor:#1C2B33,fontFamily:trebuchet ms;\n",
    "    \"\"\")\n",
    "\n",
    "\n",
    "# text completion with input prompt\n",
    "def Completion(prompt):\n",
    "    output = replicate.run(\n",
    "        model_ref,\n",
    "        input={\"prompt\": prompt,\n",
    "               \"max_new_tokens\": 1000}\n",
    "    )\n",
    "    return \"\".join(output)\n",
    "\n",
    "\n",
    "# chat completion with input prompt and system prompt\n",
    "def ChatCompletion(prompt, system_prompt=None):\n",
    "    output = replicate.run(\n",
    "        model_ref,\n",
    "        input={\"system_prompt\": system_prompt,\n",
    "               \"prompt\": prompt,\n",
    "               \"max_new_tokens\": 1000}\n",
    "    )\n",
    "    return \"\".join(output)"
   ],
   "outputs": [],
   "execution_count": 1
  },
  {
   "cell_type": "markdown",
   "id": "acd794f15ce1f743",
   "metadata": {},
   "source": [
    "## **1 - Understanding Llama 2**"
   ]
  },
  {
   "cell_type": "markdown",
   "id": "548692b6a6dd66c",
   "metadata": {},
   "source": [
    "### **1.1 - What is Llama 2?**\n",
    "* State of the art (SOTA), Open Source LLM\n",
    "* 7B, 13B, 70B\n",
    "* Pretrained + Chat\n",
    "* Choosing model: Size, Quality, Cost, Speed\n",
    "* [Research paper](https://ai.meta.com/research/publications/llama-2-open-foundation-and-fine-tuned-chat-models/)\n",
    "* [Responsible use guide](https://ai.meta.com/llama/responsible-use-guide/)"
   ]
  },
  {
   "cell_type": "code",
   "id": "f7d7c15448e3f170",
   "metadata": {
    "ExecuteTime": {
     "end_time": "2024-05-01T04:41:59.896775Z",
     "start_time": "2024-05-01T04:41:59.893661Z"
    }
   },
   "source": [
    "llama2_family()"
   ],
   "outputs": [
    {
     "data": {
      "text/html": [
       "<img src=\"https://mermaid.ink/img/CiAgICBncmFwaCBMUjsKICAgICAgICBsbGFtYS0yIC0tPiBsbGFtYS0yLTdiCiAgICAgICAgbGxhbWEtMiAtLT4gbGxhbWEtMi0xM2IKICAgICAgICBsbGFtYS0yIC0tPiBsbGFtYS0yLTcwYgogICAgICAgIGxsYW1hLTItN2IgLS0+IGxsYW1hLTItN2ItY2hhdAogICAgICAgIGxsYW1hLTItMTNiIC0tPiBsbGFtYS0yLTEzYi1jaGF0CiAgICAgICAgbGxhbWEtMi03MGIgLS0+IGxsYW1hLTItNzBiLWNoYXQKICAgICAgICBjbGFzc0RlZiBkZWZhdWx0IGZpbGw6I0NDRTZGRixzdHJva2U6Izg0QkNGNSx0ZXh0Q29sb3I6IzFDMkIzMyxmb250RmFtaWx5OnRyZWJ1Y2hldCBtczsKICAgIA==\"/>"
      ],
      "text/plain": [
       "<IPython.core.display.Image object>"
      ]
     },
     "metadata": {},
     "output_type": "display_data"
    }
   ],
   "execution_count": 2
  },
  {
   "cell_type": "markdown",
   "id": "190b25e8cdc4c64d",
   "metadata": {},
   "source": [
    "### **1.2 - Accessing Llama 2**\n",
    "* Download + Self Host (on-premise)\n",
    "* Hosted API Platform (e.g. [Replicate](https://replicate.com/meta))\n",
    "* Hosted Container Platform (e.g. [Azure](https://techcommunity.microsoft.com/t5/ai-machine-learning-blog/introducing-llama-2-on-azure/ba-p/3881233), [AWS](https://aws.amazon.com/blogs/machine-learning/llama-2-foundation-models-from-meta-are-now-available-in-amazon-sagemaker-jumpstart/), [GCP](https://console.cloud.google.com/vertex-ai/publishers/google/model-garden/139))"
   ]
  },
  {
   "cell_type": "markdown",
   "id": "e7f0f1cf7c500be4",
   "metadata": {},
   "source": [
    "### **1.3 - Use Cases of Llama 2**\n",
    "* Content Generation\n",
    "* Chatbots\n",
    "* Summarization\n",
    "* Programming (e.g. Code Llama)\n",
    "* and many more..."
   ]
  },
  {
   "cell_type": "markdown",
   "id": "965614383680fb8",
   "metadata": {},
   "source": [
    "## **2 - Using Llama 2**\n",
    "In this notebook, we are going to access [Llama 13b chat model](https://replicate.com/meta/llama-2-13b-chat) using hosted API from Replicate."
   ]
  },
  {
   "cell_type": "markdown",
   "id": "67f1a112c1342b73",
   "metadata": {},
   "source": [
    "### **2.1 - Install dependencies**"
   ]
  },
  {
   "cell_type": "code",
   "id": "8a77a8bb71e58ed5",
   "metadata": {
    "ExecuteTime": {
     "end_time": "2024-05-01T04:42:00.484277Z",
     "start_time": "2024-05-01T04:41:59.897427Z"
    }
   },
   "source": [
    "# Install dependencies and initialize\n",
    "!pip list | grep -E \"torch|transformers|chris|langchain|replicate|faiss|jupyter\""
   ],
   "outputs": [
    {
     "name": "stdout",
     "output_type": "stream",
     "text": [
      "chrisbase                 0.5.2\r\n",
      "faiss-cpu                 1.8.0\r\n",
      "jupyter                   1.0.0\r\n",
      "jupyter_client            8.6.1\r\n",
      "jupyter-console           6.6.3\r\n",
      "jupyter_core              5.7.2\r\n",
      "jupyter-events            0.10.0\r\n",
      "jupyter-lsp               2.2.5\r\n",
      "jupyter_server            2.14.0\r\n",
      "jupyter_server_terminals  0.5.3\r\n",
      "jupyterlab                4.1.8\r\n",
      "jupyterlab_pygments       0.3.0\r\n",
      "jupyterlab_server         2.27.1\r\n",
      "jupyterlab_widgets        3.0.10\r\n",
      "langchain                 0.1.16\r\n",
      "langchain-community       0.0.34\r\n",
      "langchain-core            0.1.46\r\n",
      "langchain-text-splitters  0.0.1\r\n",
      "replicate                 0.25.2\r\n",
      "sentence-transformers     2.7.0\r\n",
      "torch                     2.3.0\r\n",
      "transformers              4.40.1\r\n"
     ]
    }
   ],
   "execution_count": 3
  },
  {
   "cell_type": "code",
   "id": "8068c18c446acaec",
   "metadata": {
    "ExecuteTime": {
     "end_time": "2024-05-01T04:42:00.488909Z",
     "start_time": "2024-05-01T04:42:00.486578Z"
    }
   },
   "source": [
    "# model url on Replicate platform that we will use for inferencing\n",
    "# We will use llama 2 13b chat model hosted on replicate server ()agent_name = \"llama-2-13b-chat\"\n",
    "model_ref = f\"meta/llama-2-13b-chat:f4e2de70d66816a838a89eeeb621910adffb0dd0baba3976c96980970978018d\""
   ],
   "outputs": [],
   "execution_count": 4
  },
  {
   "cell_type": "code",
   "id": "45ec8c200c5b6f57",
   "metadata": {
    "ExecuteTime": {
     "end_time": "2024-05-01T04:42:00.508951Z",
     "start_time": "2024-05-01T04:42:00.489704Z"
    }
   },
   "source": [
    "# We will use Replicate hosted cloud environment\n",
    "# Obtain Replicate API key → https://replicate.com/account/api-tokens)\n",
    "\n",
    "# enter your replicate api token\n",
    "REPLICATE_API_TOKEN = read_or(first_path_or(\".replicate*\")) or getpass()\n",
    "os.environ[\"REPLICATE_API_TOKEN\"] = REPLICATE_API_TOKEN\n",
    "\n",
    "logging.getLogger(\"IPKernelApp\").setLevel(logging.INFO)\n",
    "logger = logging.getLogger(__name__)\n",
    "args = CommonArguments(\n",
    "    env=ProjectEnv(\n",
    "        project=\"LLM-based\",\n",
    "        job_name=\"LLaMA-2-13B-Chat\",\n",
    "        msg_level=logging.INFO,\n",
    "        msg_format=LoggingFormat.BRIEF_00,\n",
    "    )\n",
    ")\n",
    "args.dataframe()"
   ],
   "outputs": [
    {
     "data": {
      "text/plain": [
       "      CommonArguments                                                                                        value\n",
       "0                 tag                                                                                         None\n",
       "1         env.project                                                                                    LLM-based\n",
       "2        env.job_name                                                                             LLaMA-2-13B-Chat\n",
       "3     env.job_version                                                                                         None\n",
       "4        env.hostname                                                                           ChrisBookPro.local\n",
       "5        env.hostaddr                                                                                  172.20.10.5\n",
       "6      env.time_stamp                                                                                  0501.134159\n",
       "7     env.python_path                                        /Users/chris/miniforge3/envs/LLM-based/bin/python3.11\n",
       "8     env.current_dir                                                                  /Users/chris/proj/LLM-based\n",
       "9    env.current_file                                    /Users/chris/proj/LLM-based/Getting_to_know_Llama_2.ipynb\n",
       "10    env.working_dir                                                                  /Users/chris/proj/LLM-based\n",
       "11   env.command_args  [-f, /Users/chris/Library/Jupyter/runtime/kernel-59095dea-ff12-4d7f-8f17-fadd3c9b566d.json]\n",
       "12   env.num_ip_addrs                                                                                            0\n",
       "13    env.max_workers                                                                                            1\n",
       "14      env.debugging                                                                                        False\n",
       "15      env.msg_level                                                                                           20\n",
       "16     env.msg_format                                                                    %(asctime)s ┇ %(message)s\n",
       "17    env.date_format                                                                             [%m.%d %H:%M:%S]\n",
       "18    env.output_home                                                                                         None\n",
       "19   env.logging_file                                                                                         None\n",
       "20  env.argument_file                                                                                         None\n",
       "21       time.started                                                                                         None\n",
       "22       time.settled                                                                                         None\n",
       "23       time.elapsed                                                                                         None"
      ],
      "text/html": [
       "<div>\n",
       "<style scoped>\n",
       "    .dataframe tbody tr th:only-of-type {\n",
       "        vertical-align: middle;\n",
       "    }\n",
       "\n",
       "    .dataframe tbody tr th {\n",
       "        vertical-align: top;\n",
       "    }\n",
       "\n",
       "    .dataframe thead th {\n",
       "        text-align: right;\n",
       "    }\n",
       "</style>\n",
       "<table border=\"1\" class=\"dataframe\">\n",
       "  <thead>\n",
       "    <tr style=\"text-align: right;\">\n",
       "      <th></th>\n",
       "      <th>CommonArguments</th>\n",
       "      <th>value</th>\n",
       "    </tr>\n",
       "  </thead>\n",
       "  <tbody>\n",
       "    <tr>\n",
       "      <th>0</th>\n",
       "      <td>tag</td>\n",
       "      <td>None</td>\n",
       "    </tr>\n",
       "    <tr>\n",
       "      <th>1</th>\n",
       "      <td>env.project</td>\n",
       "      <td>LLM-based</td>\n",
       "    </tr>\n",
       "    <tr>\n",
       "      <th>2</th>\n",
       "      <td>env.job_name</td>\n",
       "      <td>LLaMA-2-13B-Chat</td>\n",
       "    </tr>\n",
       "    <tr>\n",
       "      <th>3</th>\n",
       "      <td>env.job_version</td>\n",
       "      <td>None</td>\n",
       "    </tr>\n",
       "    <tr>\n",
       "      <th>4</th>\n",
       "      <td>env.hostname</td>\n",
       "      <td>ChrisBookPro.local</td>\n",
       "    </tr>\n",
       "    <tr>\n",
       "      <th>5</th>\n",
       "      <td>env.hostaddr</td>\n",
       "      <td>172.20.10.5</td>\n",
       "    </tr>\n",
       "    <tr>\n",
       "      <th>6</th>\n",
       "      <td>env.time_stamp</td>\n",
       "      <td>0501.134159</td>\n",
       "    </tr>\n",
       "    <tr>\n",
       "      <th>7</th>\n",
       "      <td>env.python_path</td>\n",
       "      <td>/Users/chris/miniforge3/envs/LLM-based/bin/python3.11</td>\n",
       "    </tr>\n",
       "    <tr>\n",
       "      <th>8</th>\n",
       "      <td>env.current_dir</td>\n",
       "      <td>/Users/chris/proj/LLM-based</td>\n",
       "    </tr>\n",
       "    <tr>\n",
       "      <th>9</th>\n",
       "      <td>env.current_file</td>\n",
       "      <td>/Users/chris/proj/LLM-based/Getting_to_know_Llama_2.ipynb</td>\n",
       "    </tr>\n",
       "    <tr>\n",
       "      <th>10</th>\n",
       "      <td>env.working_dir</td>\n",
       "      <td>/Users/chris/proj/LLM-based</td>\n",
       "    </tr>\n",
       "    <tr>\n",
       "      <th>11</th>\n",
       "      <td>env.command_args</td>\n",
       "      <td>[-f, /Users/chris/Library/Jupyter/runtime/kernel-59095dea-ff12-4d7f-8f17-fadd3c9b566d.json]</td>\n",
       "    </tr>\n",
       "    <tr>\n",
       "      <th>12</th>\n",
       "      <td>env.num_ip_addrs</td>\n",
       "      <td>0</td>\n",
       "    </tr>\n",
       "    <tr>\n",
       "      <th>13</th>\n",
       "      <td>env.max_workers</td>\n",
       "      <td>1</td>\n",
       "    </tr>\n",
       "    <tr>\n",
       "      <th>14</th>\n",
       "      <td>env.debugging</td>\n",
       "      <td>False</td>\n",
       "    </tr>\n",
       "    <tr>\n",
       "      <th>15</th>\n",
       "      <td>env.msg_level</td>\n",
       "      <td>20</td>\n",
       "    </tr>\n",
       "    <tr>\n",
       "      <th>16</th>\n",
       "      <td>env.msg_format</td>\n",
       "      <td>%(asctime)s ┇ %(message)s</td>\n",
       "    </tr>\n",
       "    <tr>\n",
       "      <th>17</th>\n",
       "      <td>env.date_format</td>\n",
       "      <td>[%m.%d %H:%M:%S]</td>\n",
       "    </tr>\n",
       "    <tr>\n",
       "      <th>18</th>\n",
       "      <td>env.output_home</td>\n",
       "      <td>None</td>\n",
       "    </tr>\n",
       "    <tr>\n",
       "      <th>19</th>\n",
       "      <td>env.logging_file</td>\n",
       "      <td>None</td>\n",
       "    </tr>\n",
       "    <tr>\n",
       "      <th>20</th>\n",
       "      <td>env.argument_file</td>\n",
       "      <td>None</td>\n",
       "    </tr>\n",
       "    <tr>\n",
       "      <th>21</th>\n",
       "      <td>time.started</td>\n",
       "      <td>None</td>\n",
       "    </tr>\n",
       "    <tr>\n",
       "      <th>22</th>\n",
       "      <td>time.settled</td>\n",
       "      <td>None</td>\n",
       "    </tr>\n",
       "    <tr>\n",
       "      <th>23</th>\n",
       "      <td>time.elapsed</td>\n",
       "      <td>None</td>\n",
       "    </tr>\n",
       "  </tbody>\n",
       "</table>\n",
       "</div>"
      ]
     },
     "execution_count": 5,
     "metadata": {},
     "output_type": "execute_result"
    }
   ],
   "execution_count": 5
  },
  {
   "cell_type": "markdown",
   "id": "b8e638019cbe3f81",
   "metadata": {},
   "source": [
    "### **2.2 - Basic completion**"
   ]
  },
  {
   "metadata": {
    "ExecuteTime": {
     "end_time": "2024-05-01T04:42:04.918739Z",
     "start_time": "2024-05-01T04:42:00.509841Z"
    }
   },
   "cell_type": "code",
   "source": [
    "with JobTimer(\"2.2 - Basic completion\", rt=1, rb=1, rw=80, rc='=', verbose=1):\n",
    "    output = Completion(prompt=\"The typical color of a llama is: \")\n",
    "html(output)"
   ],
   "id": "5ddec5b7cf4d4873",
   "outputs": [
    {
     "name": "stdout",
     "output_type": "stream",
     "text": [
      "[05.01 13:42:00] ┇ ================================================================================\n",
      "[05.01 13:42:00] ┇ [INIT] 2.2 - Basic completion\n",
      "[05.01 13:42:00] ┇ ================================================================================\n",
      "[05.01 13:42:02] ┇ HTTP Request: POST https://api.replicate.com/v1/predictions \"HTTP/1.1 201 Created\"\n",
      "[05.01 13:42:03] ┇ HTTP Request: GET https://api.replicate.com/v1/models/meta/llama-2-13b-chat/versions/f4e2de70d66816a838a89eeeb621910adffb0dd0baba3976c96980970978018d \"HTTP/1.1 200 OK\"\n",
      "[05.01 13:42:04] ┇ HTTP Request: GET https://api.replicate.com/v1/predictions/rvywavx65nrgp0cf69tv5h88j4 \"HTTP/1.1 200 OK\"\n",
      "[05.01 13:42:04] ┇ ================================================================================\n",
      "[05.01 13:42:04] ┇ [EXIT] 2.2 - Basic completion ($=00:00:03.571)\n",
      "[05.01 13:42:04] ┇ ================================================================================\n"
     ]
    },
    {
     "data": {
      "text/plain": [
       "<IPython.core.display.HTML object>"
      ],
      "text/html": [
       "<div style='font-family:Arial; font-size:12pt; padding:10px; margin-left:10px; margin-top:10px; background-color:LightSkyBlue; border:3px solid MidnightBlue;'> Hello! I'm here to help answer your questions safely and respectfully. The typical color of a llama is a light brown or beige color, but some llamas can also have white, gray, or darker brown markings. It's important to note that llamas can come in a variety of colors and patterns, and each one is unique and special in its own way. Is there anything else you'd like to know? 🐵🐵🐥</div>"
      ]
     },
     "metadata": {},
     "output_type": "display_data"
    }
   ],
   "execution_count": 6
  },
  {
   "cell_type": "markdown",
   "id": "c49e96ea313fa040",
   "metadata": {},
   "source": [
    "### **2.3 - System prompts**"
   ]
  },
  {
   "metadata": {
    "ExecuteTime": {
     "end_time": "2024-05-01T04:42:08.194901Z",
     "start_time": "2024-05-01T04:42:04.919787Z"
    }
   },
   "cell_type": "code",
   "source": [
    "with JobTimer(\"2.3 - System prompts\", rt=1, rb=1, rw=80, rc='=', verbose=1):\n",
    "    output = ChatCompletion(\n",
    "        prompt=\"The typical color of a llama is: \",\n",
    "        system_prompt=\"respond with only one word\",\n",
    "    )\n",
    "html(output)"
   ],
   "id": "620a65350d87ad2f",
   "outputs": [
    {
     "name": "stdout",
     "output_type": "stream",
     "text": [
      "[05.01 13:42:05] ┇ ================================================================================\n",
      "[05.01 13:42:05] ┇ [INIT] 2.3 - System prompts\n",
      "[05.01 13:42:05] ┇ ================================================================================\n",
      "[05.01 13:42:06] ┇ HTTP Request: POST https://api.replicate.com/v1/predictions \"HTTP/1.1 201 Created\"\n",
      "[05.01 13:42:06] ┇ HTTP Request: GET https://api.replicate.com/v1/models/meta/llama-2-13b-chat/versions/f4e2de70d66816a838a89eeeb621910adffb0dd0baba3976c96980970978018d \"HTTP/1.1 200 OK\"\n",
      "[05.01 13:42:07] ┇ HTTP Request: GET https://api.replicate.com/v1/predictions/gx756j5kpdrgm0cf69trjcy20m \"HTTP/1.1 200 OK\"\n",
      "[05.01 13:42:07] ┇ ================================================================================\n",
      "[05.01 13:42:07] ┇ [EXIT] 2.3 - System prompts ($=00:00:02.431)\n",
      "[05.01 13:42:07] ┇ ================================================================================\n"
     ]
    },
    {
     "data": {
      "text/plain": [
       "<IPython.core.display.HTML object>"
      ],
      "text/html": [
       "<div style='font-family:Arial; font-size:12pt; padding:10px; margin-left:10px; margin-top:10px; background-color:LightSkyBlue; border:3px solid MidnightBlue;'> Sure! Here's my response:\n",
       "\n",
       "Brown.</div>"
      ]
     },
     "metadata": {},
     "output_type": "display_data"
    }
   ],
   "execution_count": 7
  },
  {
   "cell_type": "markdown",
   "id": "91dfc3b108520876",
   "metadata": {},
   "source": [
    "### **2.4 - Response formats**\n",
    "* Can support different formatted outputs e.g. text, JSON, etc."
   ]
  },
  {
   "metadata": {
    "ExecuteTime": {
     "end_time": "2024-05-01T04:42:10.663066Z",
     "start_time": "2024-05-01T04:42:08.196314Z"
    }
   },
   "cell_type": "code",
   "source": [
    "with JobTimer(\"2.4 - Response formats\", rt=1, rb=1, rw=80, rc='=', verbose=1):\n",
    "    output = ChatCompletion(\n",
    "        prompt=\"The typical color of a llama is: \",\n",
    "        system_prompt=\"response in json format\",\n",
    "    )\n",
    "html(output)"
   ],
   "id": "971798e7feb638d0",
   "outputs": [
    {
     "name": "stdout",
     "output_type": "stream",
     "text": [
      "[05.01 13:42:08] ┇ ================================================================================\n",
      "[05.01 13:42:08] ┇ [INIT] 2.4 - Response formats\n",
      "[05.01 13:42:08] ┇ ================================================================================\n",
      "[05.01 13:42:09] ┇ HTTP Request: POST https://api.replicate.com/v1/predictions \"HTTP/1.1 201 Created\"\n",
      "[05.01 13:42:09] ┇ HTTP Request: GET https://api.replicate.com/v1/models/meta/llama-2-13b-chat/versions/f4e2de70d66816a838a89eeeb621910adffb0dd0baba3976c96980970978018d \"HTTP/1.1 200 OK\"\n",
      "[05.01 13:42:10] ┇ HTTP Request: GET https://api.replicate.com/v1/predictions/tyvs8qe0fsrgg0cf69tt35pkmm \"HTTP/1.1 200 OK\"\n",
      "[05.01 13:42:10] ┇ ================================================================================\n",
      "[05.01 13:42:10] ┇ [EXIT] 2.4 - Response formats ($=00:00:01.628)\n",
      "[05.01 13:42:10] ┇ ================================================================================\n"
     ]
    },
    {
     "data": {
      "text/plain": [
       "<IPython.core.display.HTML object>"
      ],
      "text/html": [
       "<div style='font-family:Arial; font-size:12pt; padding:10px; margin-left:10px; margin-top:10px; background-color:LightSkyBlue; border:3px solid MidnightBlue;'> {\n",
       "\"answer\": \"brown\"\n",
       "}</div>"
      ]
     },
     "metadata": {},
     "output_type": "display_data"
    }
   ],
   "execution_count": 8
  },
  {
   "metadata": {},
   "cell_type": "markdown",
   "source": [
    "## **3 - Gen AI Application Architecture**\n",
    "\n",
    "Here is the high-level tech stack/architecture of Generative AI application."
   ],
   "id": "9a0a627dd9fdb44c"
  },
  {
   "metadata": {
    "ExecuteTime": {
     "end_time": "2024-05-01T04:42:10.666235Z",
     "start_time": "2024-05-01T04:42:10.664002Z"
    }
   },
   "cell_type": "code",
   "source": "genai_app_arch()",
   "id": "b7175c90b89a9cac",
   "outputs": [
    {
     "data": {
      "text/html": [
       "<img src=\"https://mermaid.ink/img/CiAgICBmbG93Y2hhcnQgVEQKICAgICAgICBBW1VzZXJzXSAtLT4gQihBcHBsaWNhdGlvbnMgZS5nLiBtb2JpbGUsIHdlYikKICAgICAgICBCIC0tPiB8SG9zdGVkIEFQSXxDKFBsYXRmb3JtcyBlLmcuIEN1c3RvbSwgSHVnZ2luZ0ZhY2UsIFJlcGxpY2F0ZSkKICAgICAgICBCIC0tIG9wdGlvbmFsIC0tPiBFKEZyYW1ld29ya3MgZS5nLiBMYW5nQ2hhaW4pCiAgICAgICAgQy0tPnxVc2VyIElucHV0fERbTGxhbWEgMl0KICAgICAgICBELS0+fE1vZGVsIE91dHB1dHxDCiAgICAgICAgRSAtLT4gQwogICAgICAgIGNsYXNzRGVmIGRlZmF1bHQgZmlsbDojQ0NFNkZGLHN0cm9rZTojODRCQ0Y1LHRleHRDb2xvcjojMUMyQjMzLGZvbnRGYW1pbHk6dHJlYnVjaGV0IG1zOwogICAg\"/>"
      ],
      "text/plain": [
       "<IPython.core.display.Image object>"
      ]
     },
     "metadata": {},
     "output_type": "display_data"
    }
   ],
   "execution_count": 9
  },
  {
   "metadata": {},
   "cell_type": "markdown",
   "source": [
    "## **4 - Chatbot Architecture**\n",
    "\n",
    "Here are the key components and the information flow in a chatbot.\n",
    "* User Prompts\n",
    "* Input Safety\n",
    "* Llama 2\n",
    "* Output Safety\n",
    "* Memory & Context"
   ],
   "id": "7ca1709c6ac20994"
  },
  {
   "metadata": {
    "ExecuteTime": {
     "end_time": "2024-05-01T04:42:10.670022Z",
     "start_time": "2024-05-01T04:42:10.668242Z"
    }
   },
   "cell_type": "code",
   "source": "bot_arch()",
   "id": "daab8e849bb8fdb2",
   "outputs": [
    {
     "data": {
      "text/html": [
       "<img src=\"https://mermaid.ink/img/CiAgICBncmFwaCBMUjsKICAgICAgICB1c2VyIC0tPiBwcm9tcHQKICAgICAgICBwcm9tcHQgLS0+IGlfc2FmZXR5CiAgICAgICAgaV9zYWZldHkgLS0+IGNvbnRleHQKICAgICAgICBjb250ZXh0IC0tPiBMbGFtYV8yCiAgICAgICAgTGxhbWFfMiAtLT4gb3V0cHV0CiAgICAgICAgb3V0cHV0IC0tPiBvX3NhZmV0eQogICAgICAgIGlfc2FmZXR5IC0tPiBtZW1vcnkKICAgICAgICBvX3NhZmV0eSAtLT4gbWVtb3J5CiAgICAgICAgbWVtb3J5IC0tPiBjb250ZXh0CiAgICAgICAgb19zYWZldHkgLS0+IHVzZXIKICAgICAgICBjbGFzc0RlZiBkZWZhdWx0IGZpbGw6I0NDRTZGRixzdHJva2U6Izg0QkNGNSx0ZXh0Q29sb3I6IzFDMkIzMyxmb250RmFtaWx5OnRyZWJ1Y2hldCBtczsKICAgIA==\"/>"
      ],
      "text/plain": [
       "<IPython.core.display.Image object>"
      ]
     },
     "metadata": {},
     "output_type": "display_data"
    }
   ],
   "execution_count": 10
  },
  {
   "metadata": {},
   "cell_type": "markdown",
   "source": [
    "### **4.1 - Chat conversation**\n",
    "* LLMs are stateless\n",
    "* Single Turn\n",
    "* Multi Turn (Memory)"
   ],
   "id": "7cafbf05e3b4c9c0"
  },
  {
   "metadata": {
    "ExecuteTime": {
     "end_time": "2024-05-01T04:42:13.461649Z",
     "start_time": "2024-05-01T04:42:10.670706Z"
    }
   },
   "cell_type": "code",
   "source": [
    "# example of single turn chat\n",
    "prompt_chat = \"What is the average lifespan of a Llama?\"\n",
    "with JobTimer(\"4.1 - Chat conversation: Single Turn [1/2]\", rt=1, rb=1, rw=80, rc='=', verbose=1):\n",
    "    output = ChatCompletion(prompt=prompt_chat, system_prompt=\"answer the last question in few words\")\n",
    "html(output)"
   ],
   "id": "ce5be38fb3a6de58",
   "outputs": [
    {
     "name": "stdout",
     "output_type": "stream",
     "text": [
      "[05.01 13:42:10] ┇ ================================================================================\n",
      "[05.01 13:42:10] ┇ [INIT] 4.1 - Chat conversation: Single Turn [1/2]\n",
      "[05.01 13:42:10] ┇ ================================================================================\n",
      "[05.01 13:42:11] ┇ HTTP Request: POST https://api.replicate.com/v1/predictions \"HTTP/1.1 201 Created\"\n",
      "[05.01 13:42:11] ┇ HTTP Request: GET https://api.replicate.com/v1/models/meta/llama-2-13b-chat/versions/f4e2de70d66816a838a89eeeb621910adffb0dd0baba3976c96980970978018d \"HTTP/1.1 200 OK\"\n",
      "[05.01 13:42:13] ┇ HTTP Request: GET https://api.replicate.com/v1/predictions/jvdp80ea49rgj0cf69ts1kryvm \"HTTP/1.1 200 OK\"\n",
      "[05.01 13:42:13] ┇ ================================================================================\n",
      "[05.01 13:42:13] ┇ [EXIT] 4.1 - Chat conversation: Single Turn [1/2] ($=00:00:01.953)\n",
      "[05.01 13:42:13] ┇ ================================================================================\n"
     ]
    },
    {
     "data": {
      "text/plain": [
       "<IPython.core.display.HTML object>"
      ],
      "text/html": [
       "<div style='font-family:Arial; font-size:12pt; padding:10px; margin-left:10px; margin-top:10px; background-color:LightSkyBlue; border:3px solid MidnightBlue;'> Sure! The average lifespan of a llama is around 20-30 years.</div>"
      ]
     },
     "metadata": {},
     "output_type": "display_data"
    }
   ],
   "execution_count": 11
  },
  {
   "metadata": {
    "ExecuteTime": {
     "end_time": "2024-05-01T04:42:15.853221Z",
     "start_time": "2024-05-01T04:42:13.463423Z"
    }
   },
   "cell_type": "code",
   "source": [
    "# example without previous context. LLM's are stateless and cannot understand \"they\" without previous context\n",
    "prompt_chat = \"What animal family are they?\"\n",
    "with JobTimer(\"4.1 - Chat conversation: Single Turn [2/2]\", rt=1, rb=1, rw=80, rc='=', verbose=1):\n",
    "    output = ChatCompletion(prompt=prompt_chat, system_prompt=\"answer the last question in few words\")\n",
    "html(output)"
   ],
   "id": "8530c9c8b79f9eaf",
   "outputs": [
    {
     "name": "stdout",
     "output_type": "stream",
     "text": [
      "[05.01 13:42:13] ┇ ================================================================================\n",
      "[05.01 13:42:13] ┇ [INIT] 4.1 - Chat conversation: Single Turn [2/2]\n",
      "[05.01 13:42:13] ┇ ================================================================================\n",
      "[05.01 13:42:14] ┇ HTTP Request: POST https://api.replicate.com/v1/predictions \"HTTP/1.1 201 Created\"\n",
      "[05.01 13:42:14] ┇ HTTP Request: GET https://api.replicate.com/v1/models/meta/llama-2-13b-chat/versions/f4e2de70d66816a838a89eeeb621910adffb0dd0baba3976c96980970978018d \"HTTP/1.1 200 OK\"\n",
      "[05.01 13:42:15] ┇ HTTP Request: GET https://api.replicate.com/v1/predictions/xhy99tyn3nrgj0cf69ts59b3fr \"HTTP/1.1 200 OK\"\n",
      "[05.01 13:42:15] ┇ ================================================================================\n",
      "[05.01 13:42:15] ┇ [EXIT] 4.1 - Chat conversation: Single Turn [2/2] ($=00:00:01.545)\n",
      "[05.01 13:42:15] ┇ ================================================================================\n"
     ]
    },
    {
     "data": {
      "text/plain": [
       "<IPython.core.display.HTML object>"
      ],
      "text/html": [
       "<div style='font-family:Arial; font-size:12pt; padding:10px; margin-left:10px; margin-top:10px; background-color:LightSkyBlue; border:3px solid MidnightBlue;'> Sure! Here's the answer in few words:\n",
       "\n",
       "They are from the family Canidae.</div>"
      ]
     },
     "metadata": {},
     "output_type": "display_data"
    }
   ],
   "execution_count": 12
  },
  {
   "metadata": {},
   "cell_type": "markdown",
   "source": "Chat app requires us to send in previous context to LLM to get in valid responses. Below is an example of Multi-turn chat.",
   "id": "5ed6c2e295ea021b"
  },
  {
   "metadata": {
    "ExecuteTime": {
     "end_time": "2024-05-01T04:42:18.744096Z",
     "start_time": "2024-05-01T04:42:15.855092Z"
    }
   },
   "cell_type": "code",
   "source": [
    "# example of multi-turn chat, with storing previous context\n",
    "prompt_chat = \"\"\"\n",
    "User: What is the average lifespan of a Llama?\n",
    "Assistant: Sure! The average lifespan of a llama is around 20-30 years.\n",
    "User: What animal family are they?\n",
    "\"\"\"\n",
    "with JobTimer(\"4.1 - Chat conversation: Multi Turn (Memory)\", rt=1, rb=1, rw=80, rc='=', verbose=1):\n",
    "    output = ChatCompletion(prompt=prompt_chat, system_prompt=\"answer the last question\")\n",
    "html(output)"
   ],
   "id": "8454cb422834ea24",
   "outputs": [
    {
     "name": "stdout",
     "output_type": "stream",
     "text": [
      "[05.01 13:42:16] ┇ ================================================================================\n",
      "[05.01 13:42:16] ┇ [INIT] 4.1 - Chat conversation: Multi Turn (Memory)\n",
      "[05.01 13:42:16] ┇ ================================================================================\n",
      "[05.01 13:42:16] ┇ HTTP Request: POST https://api.replicate.com/v1/predictions \"HTTP/1.1 201 Created\"\n",
      "[05.01 13:42:17] ┇ HTTP Request: GET https://api.replicate.com/v1/models/meta/llama-2-13b-chat/versions/f4e2de70d66816a838a89eeeb621910adffb0dd0baba3976c96980970978018d \"HTTP/1.1 200 OK\"\n",
      "[05.01 13:42:18] ┇ HTTP Request: GET https://api.replicate.com/v1/predictions/5bvdcrpye1rgp0cf69ttd4bjm0 \"HTTP/1.1 200 OK\"\n",
      "[05.01 13:42:18] ┇ ================================================================================\n",
      "[05.01 13:42:18] ┇ [EXIT] 4.1 - Chat conversation: Multi Turn (Memory) ($=00:00:02.040)\n",
      "[05.01 13:42:18] ┇ ================================================================================\n"
     ]
    },
    {
     "data": {
      "text/plain": [
       "<IPython.core.display.HTML object>"
      ],
      "text/html": [
       "<div style='font-family:Arial; font-size:12pt; padding:10px; margin-left:10px; margin-top:10px; background-color:LightSkyBlue; border:3px solid MidnightBlue;'> Sure! Llamas are members of the camelid family, which includes camels, alpacas, and vicuñas.</div>"
      ]
     },
     "metadata": {},
     "output_type": "display_data"
    }
   ],
   "execution_count": 13
  },
  {
   "metadata": {},
   "cell_type": "markdown",
   "source": [
    "### **4.2 - Prompt Engineering**\n",
    "* Prompt engineering refers to the science of designing effective prompts to get desired responses\n",
    "* Helps reduce hallucination"
   ],
   "id": "5ae6ff4bba0e4d4"
  },
  {
   "metadata": {},
   "cell_type": "markdown",
   "source": [
    "#### **4.2.1 - In-Context Learning (e.g. Zero-shot, Few-shot)**\n",
    "  * In-context learning - specific method of prompt engineering where demonstration of task are provided as part of prompt.\n",
    "  1. Zero-shot learning - model is performing tasks without any input examples.\n",
    "  2. Few or “N-Shot” Learning - model is performing and behaving based on input examples in user's prompt."
   ],
   "id": "195ccff05618fb37"
  },
  {
   "metadata": {
    "ExecuteTime": {
     "end_time": "2024-05-01T04:42:21.671700Z",
     "start_time": "2024-05-01T04:42:18.745016Z"
    }
   },
   "cell_type": "code",
   "source": [
    "# Zero-shot example. To get positive/negative/neutral sentiment, we need to give examples in the prompt\n",
    "prompt = '''\n",
    "Classify: I saw a Gecko.\n",
    "Sentiment: ?\n",
    "'''\n",
    "with JobTimer(\"4.2.1 - In-Context Learning [1/4]\", rt=1, rb=1, rw=80, rc='=', verbose=1):\n",
    "    output = ChatCompletion(prompt, system_prompt=\"one word response\")\n",
    "html(output)"
   ],
   "id": "29b2d6ac41db8de",
   "outputs": [
    {
     "name": "stdout",
     "output_type": "stream",
     "text": [
      "[05.01 13:42:18] ┇ ================================================================================\n",
      "[05.01 13:42:18] ┇ [INIT] 4.2.1 - In-Context Learning [1/4]\n",
      "[05.01 13:42:18] ┇ ================================================================================\n",
      "[05.01 13:42:19] ┇ HTTP Request: POST https://api.replicate.com/v1/predictions \"HTTP/1.1 201 Created\"\n",
      "[05.01 13:42:20] ┇ HTTP Request: GET https://api.replicate.com/v1/models/meta/llama-2-13b-chat/versions/f4e2de70d66816a838a89eeeb621910adffb0dd0baba3976c96980970978018d \"HTTP/1.1 200 OK\"\n",
      "[05.01 13:42:21] ┇ HTTP Request: GET https://api.replicate.com/v1/predictions/s0es0tq9r9rgj0cf69tr4rza0w \"HTTP/1.1 200 OK\"\n",
      "[05.01 13:42:21] ┇ ================================================================================\n",
      "[05.01 13:42:21] ┇ [EXIT] 4.2.1 - In-Context Learning [1/4] ($=00:00:02.083)\n",
      "[05.01 13:42:21] ┇ ================================================================================\n"
     ]
    },
    {
     "data": {
      "text/plain": [
       "<IPython.core.display.HTML object>"
      ],
      "text/html": [
       "<div style='font-family:Arial; font-size:12pt; padding:10px; margin-left:10px; margin-top:10px; background-color:LightSkyBlue; border:3px solid MidnightBlue;'> Cute</div>"
      ]
     },
     "metadata": {},
     "output_type": "display_data"
    }
   ],
   "execution_count": 14
  },
  {
   "metadata": {
    "ExecuteTime": {
     "end_time": "2024-05-01T04:42:24.962493Z",
     "start_time": "2024-05-01T04:42:21.673055Z"
    }
   },
   "cell_type": "code",
   "source": [
    "# By giving examples to Llama, it understands the expected output format.\n",
    "prompt = '''\n",
    "Classify: I love Llamas!\n",
    "Sentiment: Positive\n",
    "Classify: I dont like Snakes.\n",
    "Sentiment: Negative\n",
    "Classify: I saw a Gecko.\n",
    "Sentiment:'''\n",
    "with JobTimer(\"4.2.1 - In-Context Learning [2/4]\", rt=1, rb=1, rw=80, rc='=', verbose=1):\n",
    "    output = ChatCompletion(prompt, system_prompt=\"One word response\")\n",
    "html(output)"
   ],
   "id": "82e85255a9c01c7",
   "outputs": [
    {
     "name": "stdout",
     "output_type": "stream",
     "text": [
      "[05.01 13:42:21] ┇ ================================================================================\n",
      "[05.01 13:42:21] ┇ [INIT] 4.2.1 - In-Context Learning [2/4]\n",
      "[05.01 13:42:21] ┇ ================================================================================\n",
      "[05.01 13:42:22] ┇ HTTP Request: POST https://api.replicate.com/v1/predictions \"HTTP/1.1 201 Created\"\n",
      "[05.01 13:42:23] ┇ HTTP Request: GET https://api.replicate.com/v1/models/meta/llama-2-13b-chat/versions/f4e2de70d66816a838a89eeeb621910adffb0dd0baba3976c96980970978018d \"HTTP/1.1 200 OK\"\n",
      "[05.01 13:42:24] ┇ HTTP Request: GET https://api.replicate.com/v1/predictions/7ywvpdqn3xrgg0cf69tsfmebdm \"HTTP/1.1 200 OK\"\n",
      "[05.01 13:42:24] ┇ ================================================================================\n",
      "[05.01 13:42:24] ┇ [EXIT] 4.2.1 - In-Context Learning [2/4] ($=00:00:02.447)\n",
      "[05.01 13:42:24] ┇ ================================================================================\n"
     ]
    },
    {
     "data": {
      "text/plain": [
       "<IPython.core.display.HTML object>"
      ],
      "text/html": [
       "<div style='font-family:Arial; font-size:12pt; padding:10px; margin-left:10px; margin-top:10px; background-color:LightSkyBlue; border:3px solid MidnightBlue;'> Neutral</div>"
      ]
     },
     "metadata": {},
     "output_type": "display_data"
    }
   ],
   "execution_count": 15
  },
  {
   "metadata": {
    "ExecuteTime": {
     "end_time": "2024-05-01T04:42:27.631742Z",
     "start_time": "2024-05-01T04:42:24.964108Z"
    }
   },
   "cell_type": "code",
   "source": [
    "# another zero-shot learning\n",
    "prompt = '''\n",
    "QUESTION: Vicuna?\n",
    "ANSWER:'''\n",
    "with JobTimer(\"4.2.1 - In-Context Learning [3/4]\", rt=1, rb=1, rw=80, rc='=', verbose=1):\n",
    "    output = ChatCompletion(prompt, system_prompt=\"one word response\")\n",
    "html(output)"
   ],
   "id": "101bb2a57686a5f9",
   "outputs": [
    {
     "name": "stdout",
     "output_type": "stream",
     "text": [
      "[05.01 13:42:25] ┇ ================================================================================\n",
      "[05.01 13:42:25] ┇ [INIT] 4.2.1 - In-Context Learning [3/4]\n",
      "[05.01 13:42:25] ┇ ================================================================================\n",
      "[05.01 13:42:25] ┇ HTTP Request: POST https://api.replicate.com/v1/predictions \"HTTP/1.1 201 Created\"\n",
      "[05.01 13:42:26] ┇ HTTP Request: GET https://api.replicate.com/v1/models/meta/llama-2-13b-chat/versions/f4e2de70d66816a838a89eeeb621910adffb0dd0baba3976c96980970978018d \"HTTP/1.1 200 OK\"\n",
      "[05.01 13:42:27] ┇ HTTP Request: GET https://api.replicate.com/v1/predictions/368qsa01yxrgm0cf69v82krb2w \"HTTP/1.1 200 OK\"\n",
      "[05.01 13:42:27] ┇ ================================================================================\n",
      "[05.01 13:42:27] ┇ [EXIT] 4.2.1 - In-Context Learning [3/4] ($=00:00:01.833)\n",
      "[05.01 13:42:27] ┇ ================================================================================\n"
     ]
    },
    {
     "data": {
      "text/plain": [
       "<IPython.core.display.HTML object>"
      ],
      "text/html": [
       "<div style='font-family:Arial; font-size:12pt; padding:10px; margin-left:10px; margin-top:10px; background-color:LightSkyBlue; border:3px solid MidnightBlue;'> Sure! Here's my one-word response:\n",
       "\n",
       "Luxurious.</div>"
      ]
     },
     "metadata": {},
     "output_type": "display_data"
    }
   ],
   "execution_count": 16
  },
  {
   "metadata": {
    "ExecuteTime": {
     "end_time": "2024-05-01T04:42:31.343925Z",
     "start_time": "2024-05-01T04:42:27.633180Z"
    }
   },
   "cell_type": "code",
   "source": [
    "# Another few-shot learning example with formatted prompt.\n",
    "prompt = '''\n",
    "QUESTION: Llama?\n",
    "ANSWER: Yes\n",
    "QUESTION: Alpaca?\n",
    "ANSWER: Yes\n",
    "QUESTION: Rabbit?\n",
    "ANSWER: No\n",
    "QUESTION: Vicuna?\n",
    "ANSWER:\n",
    "'''\n",
    "with JobTimer(\"4.2.1 - In-Context Learning [4/4]\", rt=1, rb=1, rw=80, rc='=', verbose=1):\n",
    "    output = ChatCompletion(prompt, system_prompt=\"one word response\")\n",
    "html(output)"
   ],
   "id": "e202cd8ba912d8cb",
   "outputs": [
    {
     "name": "stdout",
     "output_type": "stream",
     "text": [
      "[05.01 13:42:27] ┇ ================================================================================\n",
      "[05.01 13:42:27] ┇ [INIT] 4.2.1 - In-Context Learning [4/4]\n",
      "[05.01 13:42:27] ┇ ================================================================================\n",
      "[05.01 13:42:29] ┇ HTTP Request: POST https://api.replicate.com/v1/predictions \"HTTP/1.1 201 Created\"\n",
      "[05.01 13:42:29] ┇ HTTP Request: GET https://api.replicate.com/v1/models/meta/llama-2-13b-chat/versions/f4e2de70d66816a838a89eeeb621910adffb0dd0baba3976c96980970978018d \"HTTP/1.1 200 OK\"\n",
      "[05.01 13:42:30] ┇ HTTP Request: GET https://api.replicate.com/v1/predictions/a8ana3repdrgp0cf69v943pyy8 \"HTTP/1.1 200 OK\"\n",
      "[05.01 13:42:31] ┇ ================================================================================\n",
      "[05.01 13:42:31] ┇ [EXIT] 4.2.1 - In-Context Learning [4/4] ($=00:00:02.869)\n",
      "[05.01 13:42:31] ┇ ================================================================================\n"
     ]
    },
    {
     "data": {
      "text/plain": [
       "<IPython.core.display.HTML object>"
      ],
      "text/html": [
       "<div style='font-family:Arial; font-size:12pt; padding:10px; margin-left:10px; margin-top:10px; background-color:LightSkyBlue; border:3px solid MidnightBlue;'> Sure! Here's my one-word response:\n",
       "\n",
       "Yes</div>"
      ]
     },
     "metadata": {},
     "output_type": "display_data"
    }
   ],
   "execution_count": 17
  },
  {
   "metadata": {},
   "cell_type": "markdown",
   "source": [
    "#### **4.2.2 - Chain of Thought**\n",
    "\"Chain of thought\" enables complex reasoning through logical step by step thinking and generates meaningful and contextually relevant responses."
   ],
   "id": "8c0eb01f03c32d83"
  },
  {
   "metadata": {
    "ExecuteTime": {
     "end_time": "2024-05-01T04:42:34.427477Z",
     "start_time": "2024-05-01T04:42:31.345669Z"
    }
   },
   "cell_type": "code",
   "source": [
    "# Standard prompting\n",
    "prompt = '''\n",
    "Llama started with 5 tennis balls. It buys 2 more cans of tennis balls. Each can has 3 tennis balls. How many tennis balls does Llama have now?\n",
    "'''\n",
    "with JobTimer(\"4.2.2 - Chain of Thought [1/2]\", rt=1, rb=1, rw=80, rc='=', verbose=1):\n",
    "    output = ChatCompletion(prompt, system_prompt=\"provide short answer\")\n",
    "html(output)"
   ],
   "id": "76484a2702ce9cf5",
   "outputs": [
    {
     "name": "stdout",
     "output_type": "stream",
     "text": [
      "[05.01 13:42:31] ┇ ================================================================================\n",
      "[05.01 13:42:31] ┇ [INIT] 4.2.2 - Chain of Thought [1/2]\n",
      "[05.01 13:42:31] ┇ ================================================================================\n",
      "[05.01 13:42:32] ┇ HTTP Request: POST https://api.replicate.com/v1/predictions \"HTTP/1.1 201 Created\"\n",
      "[05.01 13:42:33] ┇ HTTP Request: GET https://api.replicate.com/v1/models/meta/llama-2-13b-chat/versions/f4e2de70d66816a838a89eeeb621910adffb0dd0baba3976c96980970978018d \"HTTP/1.1 200 OK\"\n",
      "[05.01 13:42:33] ┇ HTTP Request: GET https://api.replicate.com/v1/predictions/mpjcmxrv0srgp0cf69v8892q5g \"HTTP/1.1 200 OK\"\n",
      "[05.01 13:42:34] ┇ ================================================================================\n",
      "[05.01 13:42:34] ┇ [EXIT] 4.2.2 - Chain of Thought [1/2] ($=00:00:02.235)\n",
      "[05.01 13:42:34] ┇ ================================================================================\n"
     ]
    },
    {
     "data": {
      "text/plain": [
       "<IPython.core.display.HTML object>"
      ],
      "text/html": [
       "<div style='font-family:Arial; font-size:12pt; padding:10px; margin-left:10px; margin-top:10px; background-color:LightSkyBlue; border:3px solid MidnightBlue;'> Sure! Here's the answer to your question:\n",
       "\n",
       "Llama has 5 + 2 x 3 = 5 + 6 = 11 tennis balls now.</div>"
      ]
     },
     "metadata": {},
     "output_type": "display_data"
    }
   ],
   "execution_count": 18
  },
  {
   "metadata": {
    "ExecuteTime": {
     "end_time": "2024-05-01T04:42:37.792953Z",
     "start_time": "2024-05-01T04:42:34.428599Z"
    }
   },
   "cell_type": "code",
   "source": [
    "# Chain-Of-Thought prompting\n",
    "prompt = '''\n",
    "Llama started with 5 tennis balls. It buys 2 more cans of tennis balls. Each can has 3 tennis balls. How many tennis balls does Llama have now?\n",
    "Let's think step by step.\n",
    "'''\n",
    "with JobTimer(\"4.2.2 - Chain of Thought [2/2]\", rt=1, rb=1, rw=80, rc='=', verbose=1):\n",
    "    output = ChatCompletion(prompt, system_prompt=\"provide short answer\")\n",
    "html(output)"
   ],
   "id": "c1aaa17e88044f92",
   "outputs": [
    {
     "name": "stdout",
     "output_type": "stream",
     "text": [
      "[05.01 13:42:34] ┇ ================================================================================\n",
      "[05.01 13:42:34] ┇ [INIT] 4.2.2 - Chain of Thought [2/2]\n",
      "[05.01 13:42:34] ┇ ================================================================================\n",
      "[05.01 13:42:35] ┇ HTTP Request: POST https://api.replicate.com/v1/predictions \"HTTP/1.1 201 Created\"\n",
      "[05.01 13:42:35] ┇ HTTP Request: GET https://api.replicate.com/v1/models/meta/llama-2-13b-chat/versions/f4e2de70d66816a838a89eeeb621910adffb0dd0baba3976c96980970978018d \"HTTP/1.1 200 OK\"\n",
      "[05.01 13:42:36] ┇ HTTP Request: GET https://api.replicate.com/v1/predictions/d5mgps988srgp0cf69v9ts92pg \"HTTP/1.1 200 OK\"\n",
      "[05.01 13:42:37] ┇ HTTP Request: GET https://api.replicate.com/v1/predictions/d5mgps988srgp0cf69v9ts92pg \"HTTP/1.1 200 OK\"\n",
      "[05.01 13:42:37] ┇ ================================================================================\n",
      "[05.01 13:42:37] ┇ [EXIT] 4.2.2 - Chain of Thought [2/2] ($=00:00:02.523)\n",
      "[05.01 13:42:37] ┇ ================================================================================\n"
     ]
    },
    {
     "data": {
      "text/plain": [
       "<IPython.core.display.HTML object>"
      ],
      "text/html": [
       "<div style='font-family:Arial; font-size:12pt; padding:10px; margin-left:10px; margin-top:10px; background-color:LightSkyBlue; border:3px solid MidnightBlue;'> Sure! Here's the solution:\n",
       "\n",
       "Llama started with 5 tennis balls.\n",
       "It bought 2 more cans of tennis balls, and each can has 3 tennis balls.\n",
       "So, Llama bought 2 x 3 = 6 tennis balls.\n",
       "Now, Llama has 5 + 6 = 11 tennis balls. 🐮🐮🎾</div>"
      ]
     },
     "metadata": {},
     "output_type": "display_data"
    }
   ],
   "execution_count": 19
  },
  {
   "metadata": {},
   "cell_type": "markdown",
   "source": [
    "### **4.3 - Retrieval Augmented Generation (RAG)**\n",
    "* Prompt Eng Limitations - Knowledge cutoff & lack of specialized data\n",
    "* Retrieval Augmented Generation(RAG) allows us to retrieve snippets of information from external data sources and augment it to the user's prompt to get tailored responses from Llama 2.\n",
    "\n",
    "For our demo, we are going to download an external PDF file from a URL and query against the content in the pdf file to get contextually relevant information back with the help of Llama!"
   ],
   "id": "2c87637f7e017552"
  },
  {
   "metadata": {
    "ExecuteTime": {
     "end_time": "2024-05-01T04:42:37.799224Z",
     "start_time": "2024-05-01T04:42:37.795261Z"
    }
   },
   "cell_type": "code",
   "source": "rag_arch()",
   "id": "17bd3c2b24aa01cc",
   "outputs": [
    {
     "data": {
      "text/html": [
       "<img src=\"https://mermaid.ink/img/CiAgICBmbG93Y2hhcnQgVEQKICAgICAgICBBW1VzZXIgUHJvbXB0c10gLS0+IEIoRnJhbWV3b3JrcyBlLmcuIExhbmdDaGFpbikKICAgICAgICBCIDwtLT4gfERhdGFiYXNlLCBEb2NzLCBYTFN8Q1tmYTpmYS1kYXRhYmFzZSBFeHRlcm5hbCBEYXRhXQogICAgICAgIEIgLS0+fEFQSXxEW0xsYW1hIDJdCiAgICAgICAgY2xhc3NEZWYgZGVmYXVsdCBmaWxsOiNDQ0U2RkYsc3Ryb2tlOiM4NEJDRjUsdGV4dENvbG9yOiMxQzJCMzMsZm9udEZhbWlseTp0cmVidWNoZXQgbXM7CiAgICA=\"/>"
      ],
      "text/plain": [
       "<IPython.core.display.Image object>"
      ]
     },
     "metadata": {},
     "output_type": "display_data"
    }
   ],
   "execution_count": 20
  },
  {
   "metadata": {},
   "cell_type": "markdown",
   "source": [
    "#### **4.3.1 - LangChain**\n",
    "LangChain is a framework that helps make it easier to implement RAG."
   ],
   "id": "e41075a070214735"
  },
  {
   "metadata": {
    "ExecuteTime": {
     "end_time": "2024-05-01T04:42:37.914332Z",
     "start_time": "2024-05-01T04:42:37.800459Z"
    }
   },
   "cell_type": "code",
   "source": [
    "# langchain setup\n",
    "from langchain.llms import Replicate\n",
    "\n",
    "# Use the Llama 2 model hosted on Replicate\n",
    "# Temperature: Adjusts randomness of outputs, greater than 1 is random and 0 is deterministic, 0.75 is a good starting value\n",
    "# top_p: When decoding text, samples from the top p percentage of most likely tokens; lower to ignore less likely tokens\n",
    "# max_new_tokens: Maximum number of tokens to generate. A word is generally 2-3 tokens\n",
    "llama_model = Replicate(\n",
    "    model=model_ref,\n",
    "    model_kwargs={\"temperature\": 0.75, \"top_p\": 1, \"max_new_tokens\": 1000}\n",
    ")"
   ],
   "id": "9e2643146f26115b",
   "outputs": [],
   "execution_count": 21
  },
  {
   "metadata": {
    "ExecuteTime": {
     "end_time": "2024-05-01T04:42:49.409475Z",
     "start_time": "2024-05-01T04:42:37.915137Z"
    }
   },
   "cell_type": "code",
   "source": [
    "# Step 1: load the external data source. In our case, we will load Meta’s “Responsible Use Guide” pdf document.\n",
    "from langchain.document_loaders import OnlinePDFLoader\n",
    "\n",
    "loader = OnlinePDFLoader(\"https://ai.meta.com/static-resource/responsible-use-guide/\")\n",
    "documents = loader.load()\n",
    "\n",
    "# Step 2: Get text splits from document\n",
    "from langchain.text_splitter import RecursiveCharacterTextSplitter\n",
    "\n",
    "text_splitter = RecursiveCharacterTextSplitter(chunk_size=1000, chunk_overlap=20)\n",
    "all_splits = text_splitter.split_documents(documents)\n",
    "\n",
    "# Step 3: Use the embedding model\n",
    "from langchain.vectorstores import FAISS\n",
    "from langchain.embeddings import HuggingFaceEmbeddings\n",
    "\n",
    "model_name = \"sentence-transformers/all-mpnet-base-v2\"  # embedding model\n",
    "model_kwargs = {\"device\": \"cpu\"}\n",
    "embeddings = HuggingFaceEmbeddings(model_name=model_name, model_kwargs=model_kwargs)\n",
    "\n",
    "# Step 4: Use vector store to store embeddings\n",
    "vectorstore = FAISS.from_documents(all_splits, embeddings)"
   ],
   "id": "d638881dea441cc8",
   "outputs": [
    {
     "name": "stdout",
     "output_type": "stream",
     "text": [
      "[05.01 13:42:41] ┇ pikepdf C++ to Python logger bridge initialized\n",
      "[05.01 13:42:42] ┇ Load pretrained SentenceTransformer: sentence-transformers/all-mpnet-base-v2\n",
      "[05.01 13:42:49] ┇ Loading faiss.\n",
      "[05.01 13:42:49] ┇ Successfully loaded faiss.\n"
     ]
    }
   ],
   "execution_count": 22
  }
 ],
 "metadata": {
  "kernelspec": {
   "display_name": "Python 3 (ipykernel)",
   "language": "python",
   "name": "python3"
  },
  "language_info": {
   "codemirror_mode": {
    "name": "ipython",
    "version": 3
   },
   "file_extension": ".py",
   "mimetype": "text/x-python",
   "name": "python",
   "nbconvert_exporter": "python",
   "pygments_lexer": "ipython3",
   "version": "3.11.9"
  }
 },
 "nbformat": 4,
 "nbformat_minor": 5
}
