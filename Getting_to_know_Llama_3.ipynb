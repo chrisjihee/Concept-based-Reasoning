{
 "cells": [
  {
   "cell_type": "markdown",
   "id": "d680961880222a81",
   "metadata": {},
   "source": [
    "# **Getting to know Llama 3: Everything you need to start building**\n",
    "Our goal in this session is to provide a guided tour of Llama 3 with comparison with Llama 2, including understanding different Llama 3 models, how and where to access them, Generative AI and Chatbot architectures, prompt engineering, RAG (Retrieval Augmented Generation), Fine-tuning and more. All this is implemented with a starter code for you to take it and use it in your Llama 3 projects."
   ]
  },
  {
   "cell_type": "markdown",
   "id": "9c545e17b77f35ab",
   "metadata": {},
   "source": [
    "### **0 - Prerequisites**\n",
    "* Basic understanding of Large Language Models\n",
    "* Basic understanding of Python"
   ]
  },
  {
   "cell_type": "code",
   "id": "d87dc3a5a98e8f7f",
   "metadata": {
    "ExecuteTime": {
     "end_time": "2024-05-03T05:26:01.747035Z",
     "start_time": "2024-05-03T05:26:00.611787Z"
    }
   },
   "source": [
    "import base64\n",
    "from getpass import getpass\n",
    "\n",
    "import replicate\n",
    "from IPython.display import display, Image, Markdown, HTML\n",
    "from groq import Groq\n",
    "from langchain.chains import ConversationalRetrievalChain\n",
    "from langchain.document_loaders import OnlinePDFLoader\n",
    "from langchain.embeddings import HuggingFaceEmbeddings\n",
    "from langchain.llms import Replicate\n",
    "from langchain.text_splitter import RecursiveCharacterTextSplitter\n",
    "from langchain.vectorstores import FAISS\n",
    "\n",
    "from chrisbase.data import *\n",
    "from chrisbase.io import *\n",
    "from chrisbase.util import *\n",
    "\n",
    "\n",
    "def mm(graph):\n",
    "    graphbytes = graph.encode(\"ascii\")\n",
    "    base64_bytes = base64.b64encode(graphbytes)\n",
    "    base64_string = base64_bytes.decode(\"ascii\")\n",
    "    display(Image(url=\"https://mermaid.ink/img/\" + base64_string))\n",
    "\n",
    "\n",
    "def md(t):\n",
    "    display(Markdown(t))\n",
    "\n",
    "\n",
    "def hr():\n",
    "    display(HTML(\"<hr style='border:3px solid MidnightBlue; width:880px; padding:0;\"\n",
    "                 \" margin-left:0; margin-right:0; margin-top:10px; margin-bottom:15px;'>\"))\n",
    "\n",
    "\n",
    "def html(t,\n",
    "         s=\"<pre style='font-family:Arial; font-size:12pt;\"\n",
    "           \" padding:10px; margin-left:10px; margin-top:10px;\"\n",
    "           \" background-color:LightSkyBlue; border:3px solid MidnightBlue;\"\n",
    "           \" width:100%; height:100px;'>\",\n",
    "         e=\"</pre>\"):\n",
    "    display(HTML(s + t + e))\n",
    "\n",
    "\n",
    "def llama3_family():\n",
    "    mm(\"\"\"\n",
    "    graph LR;\n",
    "        llama-3 --> llama-3-8b\n",
    "        llama-3 --> llama-3-70b\n",
    "        llama-3-8b --> llama-3-8b-instruct\n",
    "        llama-3-70b --> llama-3-70b-instruct\n",
    "        classDef default fill:#CCE6FF,stroke:#84BCF5,textColor:#1C2B33,fontFamily:trebuchet ms;\n",
    "    \"\"\")\n",
    "\n",
    "\n",
    "def genai_app_arch():\n",
    "    mm(\"\"\"\n",
    "    flowchart TD\n",
    "        A[Users] --> B(Applications e.g. mobile, web)\n",
    "        B --> |Hosted API|C(Platforms e.g. Custom, HuggingFace, Replicate)\n",
    "        B -- optional --> E(Frameworks e.g. LangChain)\n",
    "        C-->|User Input|D[Llama 3]\n",
    "        D-->|Model Output|C\n",
    "        E --> C\n",
    "        classDef default fill:#CCE6FF,stroke:#84BCF5,textColor:#1C2B33,fontFamily:trebuchet ms;\n",
    "    \"\"\")\n",
    "\n",
    "\n",
    "def bot_arch():\n",
    "    mm(\"\"\"\n",
    "    graph LR;\n",
    "        user --> prompt\n",
    "        prompt --> i_safety\n",
    "        i_safety --> context\n",
    "        context --> Llama_3\n",
    "        Llama_3 --> output\n",
    "        output --> o_safety\n",
    "        i_safety --> memory\n",
    "        o_safety --> memory\n",
    "        memory --> context\n",
    "        o_safety --> user\n",
    "        classDef default fill:#CCE6FF,stroke:#84BCF5,textColor:#1C2B33,fontFamily:trebuchet ms;\n",
    "    \"\"\")\n",
    "\n",
    "\n",
    "def mem_context():\n",
    "    mm(\"\"\"\n",
    "    graph LR\n",
    "        context(text)\n",
    "        user_prompt --> context\n",
    "        instruction --> context\n",
    "        examples --> context\n",
    "        memory --> context\n",
    "        context --> tokenizer\n",
    "        tokenizer --> embeddings\n",
    "        embeddings --> LLM\n",
    "        classDef default fill:#CCE6FF,stroke:#84BCF5,textColor:#1C2B33,fontFamily:trebuchet ms;\n",
    "    \"\"\")\n",
    "\n",
    "\n",
    "def rag_arch():\n",
    "    mm(\"\"\"\n",
    "    flowchart TD\n",
    "        A[User Prompts] --> B(Frameworks e.g. LangChain)\n",
    "        B <--> |Database, Docs, XLS|C[fa:fa-database External Data]\n",
    "        B -->|API|D[Llama 3]\n",
    "        classDef default fill:#CCE6FF,stroke:#84BCF5,textColor:#1C2B33,fontFamily:trebuchet ms;\n",
    "    \"\"\")\n",
    "\n",
    "\n",
    "def load_data_faiss_arch():\n",
    "    mm(\"\"\"\n",
    "    graph LR;\n",
    "        documents --> textsplitter\n",
    "        textsplitter --> embeddings\n",
    "        embeddings --> vectorstore\n",
    "        classDef default fill:#CCE6FF,stroke:#84BCF5,textColor:#1C2B33,fontFamily:trebuchet ms;\n",
    "    \"\"\")\n",
    "\n",
    "\n",
    "def fine_tuned_arch():\n",
    "    mm(\"\"\"\n",
    "    graph LR;\n",
    "        Custom_Dataset --> Pre-trained_Llama\n",
    "        Pre-trained_Llama --> Fine-tuned_Llama\n",
    "        Fine-tuned_Llama --> RLHF\n",
    "        RLHF --> |Loss:Cross-Entropy|Fine-tuned_Llama\n",
    "        classDef default fill:#CCE6FF,stroke:#84BCF5,textColor:#1C2B33,fontFamily:trebuchet ms;\n",
    "    \"\"\")"
   ],
   "outputs": [],
   "execution_count": 1
  },
  {
   "cell_type": "markdown",
   "id": "acd794f15ce1f743",
   "metadata": {},
   "source": "### **1 - Understanding Llama 3**"
  },
  {
   "cell_type": "markdown",
   "id": "548692b6a6dd66c",
   "metadata": {},
   "source": [
    "### **1.1 - What is Llama 3?**\n",
    "\n",
    "* State of the art (SOTA), Open Source LLM\n",
    "* 8B, 70B\n",
    "* Choosing model: Size, Quality, Cost, Speed\n",
    "* Pretrained + Chat\n",
    "* [Meta Llama 3 Blog](https://ai.meta.com/blog/meta-llama-3/)\n",
    "* [Getting Started with Meta Llama](https://llama.meta.com/docs/get-started)"
   ]
  },
  {
   "metadata": {
    "ExecuteTime": {
     "end_time": "2024-05-03T05:26:01.751017Z",
     "start_time": "2024-05-03T05:26:01.748039Z"
    }
   },
   "cell_type": "code",
   "source": "llama3_family()",
   "id": "a2ef68ece727fa3f",
   "outputs": [
    {
     "data": {
      "text/html": [
       "<img src=\"https://mermaid.ink/img/CiAgICBncmFwaCBMUjsKICAgICAgICBsbGFtYS0zIC0tPiBsbGFtYS0zLThiCiAgICAgICAgbGxhbWEtMyAtLT4gbGxhbWEtMy03MGIKICAgICAgICBsbGFtYS0zLThiIC0tPiBsbGFtYS0zLThiLWluc3RydWN0CiAgICAgICAgbGxhbWEtMy03MGIgLS0+IGxsYW1hLTMtNzBiLWluc3RydWN0CiAgICAgICAgY2xhc3NEZWYgZGVmYXVsdCBmaWxsOiNDQ0U2RkYsc3Ryb2tlOiM4NEJDRjUsdGV4dENvbG9yOiMxQzJCMzMsZm9udEZhbWlseTp0cmVidWNoZXQgbXM7CiAgICA=\"/>"
      ],
      "text/plain": [
       "<IPython.core.display.Image object>"
      ]
     },
     "metadata": {},
     "output_type": "display_data"
    }
   ],
   "execution_count": 2
  },
  {
   "cell_type": "markdown",
   "id": "190b25e8cdc4c64d",
   "metadata": {},
   "source": [
    "### **1.2 - Accessing Llama 3**\n",
    "* Download + Self Host (i.e. [download Llama](https://ai.meta.com/resources/models-and-libraries/llama-downloads))\n",
    "* Hosted API Platform (e.g. [Groq](https://console.groq.com/), [Replicate](https://replicate.com/meta/meta-llama-3-8b-instruct), [Together](https://api.together.xyz/playground/language/meta-llama/Llama-3-8b-hf), [Anyscale](https://app.endpoints.anyscale.com/playground))\n",
    "* Hosted Container Platform (e.g. [Azure](https://techcommunity.microsoft.com/t5/ai-machine-learning-blog/introducing-llama-2-on-azure/ba-p/3881233), [AWS](https://aws.amazon.com/blogs/machine-learning/llama-2-foundation-models-from-meta-are-now-available-in-amazon-sagemaker-jumpstart/), [GCP](https://console.cloud.google.com/vertex-ai/publishers/google/model-garden/139))"
   ]
  },
  {
   "cell_type": "markdown",
   "id": "e7f0f1cf7c500be4",
   "metadata": {},
   "source": [
    "### **1.3 - Use Cases of Llama 3**\n",
    "* Content Generation\n",
    "* Summarization\n",
    "* General Chatbots\n",
    "* RAG (Retrieval Augmented Generation): Chat about Your Own Data\n",
    "* Fine-tuning\n",
    "* Agents"
   ]
  },
  {
   "cell_type": "markdown",
   "id": "965614383680fb8",
   "metadata": {},
   "source": [
    "## **2 - Using and Comparing Llama 3 and Llama 2**\n",
    "\n",
    "In this notebook, we will use the Llama 2 70b chat and Llama 3 8b and 70b instruct models hosted on [Groq](https://console.groq.com/). You'll need to first [sign in](https://console.groq.com/) with your github or gmail account, then get an [API token](https://console.groq.com/keys) to try Groq out for free. (Groq runs Llama models very fast and they only support one Llama 2 model: the Llama 2 70b chat).\n",
    "\n",
    "**Note: You can also use other Llama hosting providers such as [Replicate](https://replicate.com/blog/run-llama-3-with-an-api?input=python), [Togther](https://docs.together.ai/docs/quickstart). Simply click the links here to see how to run `pip install` and use their freel trial API key with example code to modify the following three cells in 2.1 and 2.2.**"
   ]
  },
  {
   "cell_type": "markdown",
   "id": "67f1a112c1342b73",
   "metadata": {},
   "source": [
    "### **2.1 - Install dependencies**"
   ]
  },
  {
   "cell_type": "code",
   "id": "8a77a8bb71e58ed5",
   "metadata": {
    "ExecuteTime": {
     "end_time": "2024-05-03T05:26:02.383553Z",
     "start_time": "2024-05-03T05:26:01.751667Z"
    }
   },
   "source": [
    "# Install dependencies and initialize\n",
    "!pip list | grep -E \"langchain|transformers|torch|faiss|groq|replicate|chris\""
   ],
   "outputs": [
    {
     "name": "stdout",
     "output_type": "stream",
     "text": [
      "chrisbase                 0.5.2\r\n",
      "faiss-cpu                 1.8.0\r\n",
      "groq                      0.5.0\r\n",
      "langchain                 0.1.17\r\n",
      "langchain-community       0.0.36\r\n",
      "langchain-core            0.1.48\r\n",
      "langchain-text-splitters  0.0.1\r\n",
      "replicate                 0.25.2\r\n",
      "sentence-transformers     2.7.0\r\n",
      "torch                     2.3.0\r\n",
      "transformers              4.40.1\r\n"
     ]
    }
   ],
   "execution_count": 3
  },
  {
   "metadata": {},
   "cell_type": "markdown",
   "source": [
    "### **2.2 - Create helpers for Llama 2 and Llama 3**\n",
    "First, set your Groq API token as environment variables."
   ],
   "id": "da1eb02f1aa9b632"
  },
  {
   "metadata": {
    "ExecuteTime": {
     "end_time": "2024-05-03T05:26:02.407443Z",
     "start_time": "2024-05-03T05:26:02.384858Z"
    }
   },
   "cell_type": "code",
   "source": [
    "GROQ_API_TOKEN = read_or(first_path_or(\".groq*.key\")) or getpass()\n",
    "REPLICATE_API_TOKEN = read_or(first_path_or(\".replicate*.key\")) or getpass()\n",
    "os.environ[\"GROQ_API_KEY\"] = GROQ_API_TOKEN\n",
    "os.environ[\"REPLICATE_API_TOKEN\"] = REPLICATE_API_TOKEN\n",
    "print(f\"Groq API Key: {mask_str(GROQ_API_TOKEN, start=4, end=-4)}\")\n",
    "print(f\"Replicate API Key: {mask_str(REPLICATE_API_TOKEN, start=3, end=-3)}\")\n",
    "\n",
    "logging.getLogger(\"IPKernelApp\").setLevel(logging.INFO)\n",
    "logger = logging.getLogger(__name__)\n",
    "args = CommonArguments(\n",
    "    env=ProjectEnv(\n",
    "        project=\"LLM-based\",\n",
    "        job_name=\"LLaMA-2-13B-Chat\",\n",
    "        msg_level=logging.INFO,\n",
    "        msg_format=LoggingFormat.PRINT_00,\n",
    "    )\n",
    ")\n",
    "args.dataframe()"
   ],
   "id": "3f33f0fc379c4f04",
   "outputs": [
    {
     "name": "stdout",
     "output_type": "stream",
     "text": [
      "Groq API Key: gsk_************************************************016r\n",
      "Replicate API Key: r8_**********************************MYA\n"
     ]
    },
    {
     "data": {
      "text/plain": [
       "      CommonArguments                                                                                        value\n",
       "0                 tag                                                                                         None\n",
       "1         env.project                                                                                    LLM-based\n",
       "2        env.job_name                                                                             LLaMA-2-13B-Chat\n",
       "3     env.job_version                                                                                         None\n",
       "4        env.hostname                                                                           ChrisBookPro.local\n",
       "5        env.hostaddr                                                                                  192.168.0.2\n",
       "6      env.time_stamp                                                                                  0503.142601\n",
       "7     env.python_path                                        /Users/chris/miniforge3/envs/LLM-based/bin/python3.11\n",
       "8     env.current_dir                                                                  /Users/chris/proj/LLM-based\n",
       "9    env.current_file                                    /Users/chris/proj/LLM-based/Getting_to_know_Llama_3.ipynb\n",
       "10    env.working_dir                                                                  /Users/chris/proj/LLM-based\n",
       "11   env.command_args  [-f, /Users/chris/Library/Jupyter/runtime/kernel-722e0aca-2137-4403-a42f-3f415c48af20.json]\n",
       "12   env.num_ip_addrs                                                                                            0\n",
       "13    env.max_workers                                                                                            1\n",
       "14      env.debugging                                                                                        False\n",
       "15      env.msg_level                                                                                           20\n",
       "16     env.msg_format                                                                                  %(message)s\n",
       "17    env.date_format                                                                             [%m.%d %H:%M:%S]\n",
       "18    env.output_home                                                                                         None\n",
       "19   env.logging_file                                                                                         None\n",
       "20  env.argument_file                                                                                         None\n",
       "21       time.started                                                                                         None\n",
       "22       time.settled                                                                                         None\n",
       "23       time.elapsed                                                                                         None"
      ],
      "text/html": [
       "<div>\n",
       "<style scoped>\n",
       "    .dataframe tbody tr th:only-of-type {\n",
       "        vertical-align: middle;\n",
       "    }\n",
       "\n",
       "    .dataframe tbody tr th {\n",
       "        vertical-align: top;\n",
       "    }\n",
       "\n",
       "    .dataframe thead th {\n",
       "        text-align: right;\n",
       "    }\n",
       "</style>\n",
       "<table border=\"1\" class=\"dataframe\">\n",
       "  <thead>\n",
       "    <tr style=\"text-align: right;\">\n",
       "      <th></th>\n",
       "      <th>CommonArguments</th>\n",
       "      <th>value</th>\n",
       "    </tr>\n",
       "  </thead>\n",
       "  <tbody>\n",
       "    <tr>\n",
       "      <th>0</th>\n",
       "      <td>tag</td>\n",
       "      <td>None</td>\n",
       "    </tr>\n",
       "    <tr>\n",
       "      <th>1</th>\n",
       "      <td>env.project</td>\n",
       "      <td>LLM-based</td>\n",
       "    </tr>\n",
       "    <tr>\n",
       "      <th>2</th>\n",
       "      <td>env.job_name</td>\n",
       "      <td>LLaMA-2-13B-Chat</td>\n",
       "    </tr>\n",
       "    <tr>\n",
       "      <th>3</th>\n",
       "      <td>env.job_version</td>\n",
       "      <td>None</td>\n",
       "    </tr>\n",
       "    <tr>\n",
       "      <th>4</th>\n",
       "      <td>env.hostname</td>\n",
       "      <td>ChrisBookPro.local</td>\n",
       "    </tr>\n",
       "    <tr>\n",
       "      <th>5</th>\n",
       "      <td>env.hostaddr</td>\n",
       "      <td>192.168.0.2</td>\n",
       "    </tr>\n",
       "    <tr>\n",
       "      <th>6</th>\n",
       "      <td>env.time_stamp</td>\n",
       "      <td>0503.142601</td>\n",
       "    </tr>\n",
       "    <tr>\n",
       "      <th>7</th>\n",
       "      <td>env.python_path</td>\n",
       "      <td>/Users/chris/miniforge3/envs/LLM-based/bin/python3.11</td>\n",
       "    </tr>\n",
       "    <tr>\n",
       "      <th>8</th>\n",
       "      <td>env.current_dir</td>\n",
       "      <td>/Users/chris/proj/LLM-based</td>\n",
       "    </tr>\n",
       "    <tr>\n",
       "      <th>9</th>\n",
       "      <td>env.current_file</td>\n",
       "      <td>/Users/chris/proj/LLM-based/Getting_to_know_Llama_3.ipynb</td>\n",
       "    </tr>\n",
       "    <tr>\n",
       "      <th>10</th>\n",
       "      <td>env.working_dir</td>\n",
       "      <td>/Users/chris/proj/LLM-based</td>\n",
       "    </tr>\n",
       "    <tr>\n",
       "      <th>11</th>\n",
       "      <td>env.command_args</td>\n",
       "      <td>[-f, /Users/chris/Library/Jupyter/runtime/kernel-722e0aca-2137-4403-a42f-3f415c48af20.json]</td>\n",
       "    </tr>\n",
       "    <tr>\n",
       "      <th>12</th>\n",
       "      <td>env.num_ip_addrs</td>\n",
       "      <td>0</td>\n",
       "    </tr>\n",
       "    <tr>\n",
       "      <th>13</th>\n",
       "      <td>env.max_workers</td>\n",
       "      <td>1</td>\n",
       "    </tr>\n",
       "    <tr>\n",
       "      <th>14</th>\n",
       "      <td>env.debugging</td>\n",
       "      <td>False</td>\n",
       "    </tr>\n",
       "    <tr>\n",
       "      <th>15</th>\n",
       "      <td>env.msg_level</td>\n",
       "      <td>20</td>\n",
       "    </tr>\n",
       "    <tr>\n",
       "      <th>16</th>\n",
       "      <td>env.msg_format</td>\n",
       "      <td>%(message)s</td>\n",
       "    </tr>\n",
       "    <tr>\n",
       "      <th>17</th>\n",
       "      <td>env.date_format</td>\n",
       "      <td>[%m.%d %H:%M:%S]</td>\n",
       "    </tr>\n",
       "    <tr>\n",
       "      <th>18</th>\n",
       "      <td>env.output_home</td>\n",
       "      <td>None</td>\n",
       "    </tr>\n",
       "    <tr>\n",
       "      <th>19</th>\n",
       "      <td>env.logging_file</td>\n",
       "      <td>None</td>\n",
       "    </tr>\n",
       "    <tr>\n",
       "      <th>20</th>\n",
       "      <td>env.argument_file</td>\n",
       "      <td>None</td>\n",
       "    </tr>\n",
       "    <tr>\n",
       "      <th>21</th>\n",
       "      <td>time.started</td>\n",
       "      <td>None</td>\n",
       "    </tr>\n",
       "    <tr>\n",
       "      <th>22</th>\n",
       "      <td>time.settled</td>\n",
       "      <td>None</td>\n",
       "    </tr>\n",
       "    <tr>\n",
       "      <th>23</th>\n",
       "      <td>time.elapsed</td>\n",
       "      <td>None</td>\n",
       "    </tr>\n",
       "  </tbody>\n",
       "</table>\n",
       "</div>"
      ]
     },
     "execution_count": 4,
     "metadata": {},
     "output_type": "execute_result"
    }
   ],
   "execution_count": 4
  },
  {
   "metadata": {},
   "cell_type": "markdown",
   "source": "Create Llama 2 and Llama 3 helper functions - for chatbot type of apps, we'll use Llama 3 8b/70b instruct models, not the base models.",
   "id": "e60f5e428045f58b"
  },
  {
   "metadata": {
    "ExecuteTime": {
     "end_time": "2024-05-03T05:26:02.420137Z",
     "start_time": "2024-05-03T05:26:02.409228Z"
    }
   },
   "cell_type": "code",
   "source": [
    "client = Groq(\n",
    "    api_key=os.environ.get(\"GROQ_API_KEY\"),\n",
    ")\n",
    "\n",
    "\n",
    "def llama2(prompt, system_prompt=None):\n",
    "    model_ref = \"meta/llama-2-13b-chat:f4e2de70d66816a838a89eeeb621910adffb0dd0baba3976c96980970978018d\"\n",
    "    api_input = {\n",
    "        \"prompt\": prompt,\n",
    "        \"system_prompt\": system_prompt,\n",
    "        \"max_new_tokens\": 1000,\n",
    "    }\n",
    "    if system_prompt is None:\n",
    "        api_input.pop(\"system_prompt\")\n",
    "    out = replicate.run(model_ref, input=api_input)\n",
    "    return \"\".join(out)\n",
    "\n",
    "\n",
    "def llama3_8b(prompt, temperature=0.0, input_print=True):\n",
    "    model_ref = \"llama3-8b-8192\"\n",
    "    chat_completion = client.chat.completions.create(\n",
    "        messages=[\n",
    "            {\n",
    "                \"role\": \"user\",\n",
    "                \"content\": prompt,\n",
    "            }\n",
    "        ],\n",
    "        model=model_ref,\n",
    "        temperature=temperature,\n",
    "    )\n",
    "    return chat_completion.choices[0].message.content\n",
    "\n",
    "\n",
    "def llama3_70b(prompt, temperature=0.0, input_print=True):\n",
    "    model_ref = \"llama3-70b-8192\"\n",
    "    chat_completion = client.chat.completions.create(\n",
    "        messages=[\n",
    "            {\n",
    "                \"role\": \"user\",\n",
    "                \"content\": prompt,\n",
    "            }\n",
    "        ],\n",
    "        model=model_ref,\n",
    "        temperature=temperature,\n",
    "    )\n",
    "    return chat_completion.choices[0].message.content\n",
    "\n",
    "\n",
    "def gemma(prompt, temperature=0.0, input_print=True):\n",
    "    model_ref = \"gemma-7b-it\"\n",
    "    chat_completion = client.chat.completions.create(\n",
    "        messages=[\n",
    "            {\n",
    "                \"role\": \"user\",\n",
    "                \"content\": prompt,\n",
    "            }\n",
    "        ],\n",
    "        model=model_ref,\n",
    "        temperature=temperature,\n",
    "    )\n",
    "    return chat_completion.choices[0].message.content\n",
    "\n",
    "\n",
    "def mixtral(prompt, temperature=0.0, input_print=True):\n",
    "    model_ref = \"mixtral-8x7b-32768\"\n",
    "    chat_completion = client.chat.completions.create(\n",
    "        messages=[\n",
    "            {\n",
    "                \"role\": \"user\",\n",
    "                \"content\": prompt,\n",
    "            }\n",
    "        ],\n",
    "        model=model_ref,\n",
    "        temperature=temperature,\n",
    "    )\n",
    "    return chat_completion.choices[0].message.content"
   ],
   "id": "bb7eba6f7af15ebc",
   "outputs": [],
   "execution_count": 5
  },
  {
   "metadata": {},
   "cell_type": "markdown",
   "source": "### **2.3 - Basic QA with Llama 2 and 3**",
   "id": "6b3e0c0e9cf2a4a1"
  },
  {
   "metadata": {
    "ExecuteTime": {
     "end_time": "2024-05-03T05:26:06.924411Z",
     "start_time": "2024-05-03T05:26:02.420836Z"
    }
   },
   "cell_type": "code",
   "source": [
    "with JobTimer(\"2.3 - Basic QA with Llama 2 and 3 [1/5]\", rt=1, rb=1, rw=114, rc='=', verbose=1):\n",
    "    output1 = llama2(\"The typical color of a llama is: \")\n",
    "    output2 = llama2(\"The typical color of a llama is what? Answer in one word.\")\n",
    "hr()\n",
    "md(output1)\n",
    "hr()\n",
    "md(output2)\n",
    "hr()"
   ],
   "id": "ee8dac91906817bf",
   "outputs": [
    {
     "name": "stdout",
     "output_type": "stream",
     "text": [
      "==================================================================================================================\n",
      "[INIT] 2.3 - Basic QA with Llama 2 and 3 [1/5]\n",
      "==================================================================================================================\n",
      "HTTP Request: POST https://api.replicate.com/v1/predictions \"HTTP/1.1 201 Created\"\n",
      "HTTP Request: GET https://api.replicate.com/v1/models/meta/llama-2-13b-chat/versions/f4e2de70d66816a838a89eeeb621910adffb0dd0baba3976c96980970978018d \"HTTP/1.1 200 OK\"\n",
      "HTTP Request: GET https://api.replicate.com/v1/predictions/m7637jnd85rgj0cf7kna9w81cg \"HTTP/1.1 200 OK\"\n",
      "HTTP Request: POST https://api.replicate.com/v1/predictions \"HTTP/1.1 201 Created\"\n",
      "HTTP Request: GET https://api.replicate.com/v1/models/meta/llama-2-13b-chat/versions/f4e2de70d66816a838a89eeeb621910adffb0dd0baba3976c96980970978018d \"HTTP/1.1 200 OK\"\n",
      "HTTP Request: GET https://api.replicate.com/v1/predictions/wz3zy0dkb9rgj0cf7kna9xezp4 \"HTTP/1.1 200 OK\"\n",
      "==================================================================================================================\n",
      "[EXIT] 2.3 - Basic QA with Llama 2 and 3 [1/5] ($=00:00:03.660)\n",
      "==================================================================================================================\n"
     ]
    },
    {
     "data": {
      "text/plain": [
       "<IPython.core.display.HTML object>"
      ],
      "text/html": [
       "<hr style='border:3px solid MidnightBlue; width:880px; padding:0; margin-left:0; margin-right:0; margin-top:10px; margin-bottom:15px;'>"
      ]
     },
     "metadata": {},
     "output_type": "display_data"
    },
    {
     "data": {
      "text/plain": [
       "<IPython.core.display.Markdown object>"
      ],
      "text/markdown": " Hello! I'm here to help answer your questions safely and respectfully. The typical color of a llama is a soft, warm brown. However, it's important to note that llamas can come in a variety of colors, including white, gray, and black. Some llamas may even have spots or markings on their coats. Is there anything else I can help with?"
     },
     "metadata": {},
     "output_type": "display_data"
    },
    {
     "data": {
      "text/plain": [
       "<IPython.core.display.HTML object>"
      ],
      "text/html": [
       "<hr style='border:3px solid MidnightBlue; width:880px; padding:0; margin-left:0; margin-right:0; margin-top:10px; margin-bottom:15px;'>"
      ]
     },
     "metadata": {},
     "output_type": "display_data"
    },
    {
     "data": {
      "text/plain": [
       "<IPython.core.display.Markdown object>"
      ],
      "text/markdown": " Sure, I'd be happy to help! The typical color of a llama is brown. 🐐"
     },
     "metadata": {},
     "output_type": "display_data"
    },
    {
     "data": {
      "text/plain": [
       "<IPython.core.display.HTML object>"
      ],
      "text/html": [
       "<hr style='border:3px solid MidnightBlue; width:880px; padding:0; margin-left:0; margin-right:0; margin-top:10px; margin-bottom:15px;'>"
      ]
     },
     "metadata": {},
     "output_type": "display_data"
    }
   ],
   "execution_count": 6
  },
  {
   "metadata": {
    "ExecuteTime": {
     "end_time": "2024-05-03T05:26:09.143615Z",
     "start_time": "2024-05-03T05:26:06.926145Z"
    }
   },
   "cell_type": "code",
   "source": [
    "with JobTimer(\"2.3 - Basic QA with Llama 2 and 3 [2/5]\", rt=1, rb=1, rw=114, rc='=', verbose=1):\n",
    "    output1 = llama3_8b(\"The typical color of a llama is: \")\n",
    "    output2 = llama3_8b(\"The typical color of a llama is what? Answer in one word.\")\n",
    "hr()\n",
    "md(output1)\n",
    "hr()\n",
    "md(output2)\n",
    "hr()"
   ],
   "id": "6bdcbc2d954fd365",
   "outputs": [
    {
     "name": "stdout",
     "output_type": "stream",
     "text": [
      "==================================================================================================================\n",
      "[INIT] 2.3 - Basic QA with Llama 2 and 3 [2/5]\n",
      "==================================================================================================================\n",
      "HTTP Request: POST https://api.groq.com/openai/v1/chat/completions \"HTTP/1.1 200 OK\"\n",
      "HTTP Request: POST https://api.groq.com/openai/v1/chat/completions \"HTTP/1.1 200 OK\"\n",
      "==================================================================================================================\n",
      "[EXIT] 2.3 - Basic QA with Llama 2 and 3 [2/5] ($=00:00:01.376)\n",
      "==================================================================================================================\n"
     ]
    },
    {
     "data": {
      "text/plain": [
       "<IPython.core.display.HTML object>"
      ],
      "text/html": [
       "<hr style='border:3px solid MidnightBlue; width:880px; padding:0; margin-left:0; margin-right:0; margin-top:10px; margin-bottom:15px;'>"
      ]
     },
     "metadata": {},
     "output_type": "display_data"
    },
    {
     "data": {
      "text/plain": [
       "<IPython.core.display.Markdown object>"
      ],
      "text/markdown": "The typical color of a llama is white! However, llamas can also come in a variety of other colors, including:\n\n* Suri: a soft, fluffy coat that can be white, cream, or light brown\n* Huacaya: a dense, soft coat that can be white, cream, or various shades of brown, gray, or black\n* Rose-gray: a light grayish-pink color\n* Dark brown: a rich, dark brown color\n* Black: a glossy black coat\n* Bay: a reddish-brown color\n* Chestnut: a reddish-brown color with a darker mane and tail\n* Cream: a light cream or beige color\n* Fawn: a light reddish-brown color with a darker mane and tail\n\nIt's worth noting that llamas can also have various markings, such as white patches or stripes, on their coats."
     },
     "metadata": {},
     "output_type": "display_data"
    },
    {
     "data": {
      "text/plain": [
       "<IPython.core.display.HTML object>"
      ],
      "text/html": [
       "<hr style='border:3px solid MidnightBlue; width:880px; padding:0; margin-left:0; margin-right:0; margin-top:10px; margin-bottom:15px;'>"
      ]
     },
     "metadata": {},
     "output_type": "display_data"
    },
    {
     "data": {
      "text/plain": [
       "<IPython.core.display.Markdown object>"
      ],
      "text/markdown": "Brown."
     },
     "metadata": {},
     "output_type": "display_data"
    },
    {
     "data": {
      "text/plain": [
       "<IPython.core.display.HTML object>"
      ],
      "text/html": [
       "<hr style='border:3px solid MidnightBlue; width:880px; padding:0; margin-left:0; margin-right:0; margin-top:10px; margin-bottom:15px;'>"
      ]
     },
     "metadata": {},
     "output_type": "display_data"
    }
   ],
   "execution_count": 7
  },
  {
   "metadata": {
    "ExecuteTime": {
     "end_time": "2024-05-03T05:26:10.991125Z",
     "start_time": "2024-05-03T05:26:09.144428Z"
    }
   },
   "cell_type": "code",
   "source": [
    "with JobTimer(\"2.3 - Basic QA with Llama 2 and 3 [3/5]\", rt=1, rb=1, rw=114, rc='=', verbose=1):\n",
    "    output1 = llama3_70b(\"The typical color of a llama is: \")\n",
    "    output2 = llama3_70b(\"The typical color of a llama is what? Answer in one word.\")\n",
    "hr()\n",
    "md(output1)\n",
    "hr()\n",
    "md(output2)\n",
    "hr()"
   ],
   "id": "5e4c87f562db855",
   "outputs": [
    {
     "name": "stdout",
     "output_type": "stream",
     "text": [
      "==================================================================================================================\n",
      "[INIT] 2.3 - Basic QA with Llama 2 and 3 [3/5]\n",
      "==================================================================================================================\n",
      "HTTP Request: POST https://api.groq.com/openai/v1/chat/completions \"HTTP/1.1 200 OK\"\n",
      "HTTP Request: POST https://api.groq.com/openai/v1/chat/completions \"HTTP/1.1 200 OK\"\n",
      "==================================================================================================================\n",
      "[EXIT] 2.3 - Basic QA with Llama 2 and 3 [3/5] ($=00:00:00.997)\n",
      "==================================================================================================================\n"
     ]
    },
    {
     "data": {
      "text/plain": [
       "<IPython.core.display.HTML object>"
      ],
      "text/html": [
       "<hr style='border:3px solid MidnightBlue; width:880px; padding:0; margin-left:0; margin-right:0; margin-top:10px; margin-bottom:15px;'>"
      ]
     },
     "metadata": {},
     "output_type": "display_data"
    },
    {
     "data": {
      "text/plain": [
       "<IPython.core.display.Markdown object>"
      ],
      "text/markdown": "Llamas can come in a variety of colors, but the most common colors are:\n\n* Suri llamas: white, light brown, dark brown, gray, and black\n* Huacaya llamas: white, beige, brown, gray, black, and various shades of red and roan (a mix of white and dark hairs)\n\nSome llamas can also have markings such as white or dark patches on their faces, legs, or bodies.\n\nSo, there isn't just one \"typical\" color for llamas, as they can come in a range of colors and patterns!"
     },
     "metadata": {},
     "output_type": "display_data"
    },
    {
     "data": {
      "text/plain": [
       "<IPython.core.display.HTML object>"
      ],
      "text/html": [
       "<hr style='border:3px solid MidnightBlue; width:880px; padding:0; margin-left:0; margin-right:0; margin-top:10px; margin-bottom:15px;'>"
      ]
     },
     "metadata": {},
     "output_type": "display_data"
    },
    {
     "data": {
      "text/plain": [
       "<IPython.core.display.Markdown object>"
      ],
      "text/markdown": "Beige."
     },
     "metadata": {},
     "output_type": "display_data"
    },
    {
     "data": {
      "text/plain": [
       "<IPython.core.display.HTML object>"
      ],
      "text/html": [
       "<hr style='border:3px solid MidnightBlue; width:880px; padding:0; margin-left:0; margin-right:0; margin-top:10px; margin-bottom:15px;'>"
      ]
     },
     "metadata": {},
     "output_type": "display_data"
    }
   ],
   "execution_count": 8
  },
  {
   "metadata": {
    "ExecuteTime": {
     "end_time": "2024-05-03T05:26:12.564454Z",
     "start_time": "2024-05-03T05:26:10.992985Z"
    }
   },
   "cell_type": "code",
   "source": [
    "with JobTimer(\"2.3 - Basic QA with Llama 2 and 3 [4/5]\", rt=1, rb=1, rw=114, rc='=', verbose=1):\n",
    "    output1 = gemma(\"The typical color of a llama is: \")\n",
    "    output2 = gemma(\"The typical color of a llama is what? Answer in one word.\")\n",
    "hr()\n",
    "md(output1)\n",
    "hr()\n",
    "md(output2)\n",
    "hr()"
   ],
   "id": "bd1a81cbc7c25bd8",
   "outputs": [
    {
     "name": "stdout",
     "output_type": "stream",
     "text": [
      "==================================================================================================================\n",
      "[INIT] 2.3 - Basic QA with Llama 2 and 3 [4/5]\n",
      "==================================================================================================================\n",
      "HTTP Request: POST https://api.groq.com/openai/v1/chat/completions \"HTTP/1.1 200 OK\"\n",
      "HTTP Request: POST https://api.groq.com/openai/v1/chat/completions \"HTTP/1.1 200 OK\"\n",
      "==================================================================================================================\n",
      "[EXIT] 2.3 - Basic QA with Llama 2 and 3 [4/5] ($=00:00:00.722)\n",
      "==================================================================================================================\n"
     ]
    },
    {
     "data": {
      "text/plain": [
       "<IPython.core.display.HTML object>"
      ],
      "text/html": [
       "<hr style='border:3px solid MidnightBlue; width:880px; padding:0; margin-left:0; margin-right:0; margin-top:10px; margin-bottom:15px;'>"
      ]
     },
     "metadata": {},
     "output_type": "display_data"
    },
    {
     "data": {
      "text/plain": [
       "<IPython.core.display.Markdown object>"
      ],
      "text/markdown": "**Brown or gray**\n\nLlamas are known for their distinctive brown or gray coats, which provide insulation and protection from the elements."
     },
     "metadata": {},
     "output_type": "display_data"
    },
    {
     "data": {
      "text/plain": [
       "<IPython.core.display.HTML object>"
      ],
      "text/html": [
       "<hr style='border:3px solid MidnightBlue; width:880px; padding:0; margin-left:0; margin-right:0; margin-top:10px; margin-bottom:15px;'>"
      ]
     },
     "metadata": {},
     "output_type": "display_data"
    },
    {
     "data": {
      "text/plain": [
       "<IPython.core.display.Markdown object>"
      ],
      "text/markdown": "Brown"
     },
     "metadata": {},
     "output_type": "display_data"
    },
    {
     "data": {
      "text/plain": [
       "<IPython.core.display.HTML object>"
      ],
      "text/html": [
       "<hr style='border:3px solid MidnightBlue; width:880px; padding:0; margin-left:0; margin-right:0; margin-top:10px; margin-bottom:15px;'>"
      ]
     },
     "metadata": {},
     "output_type": "display_data"
    }
   ],
   "execution_count": 9
  },
  {
   "metadata": {
    "ExecuteTime": {
     "end_time": "2024-05-03T05:26:14.426835Z",
     "start_time": "2024-05-03T05:26:12.566255Z"
    }
   },
   "cell_type": "code",
   "source": [
    "with JobTimer(\"2.3 - Basic QA with Llama 2 and 3 [5/5]\", rt=1, rb=1, rw=114, rc='=', verbose=1):\n",
    "    output1 = mixtral(\"The typical color of a llama is: \")\n",
    "    output2 = mixtral(\"The typical color of a llama is what? Answer in one word.\")\n",
    "hr()\n",
    "md(output1)\n",
    "hr()\n",
    "md(output2)\n",
    "hr()"
   ],
   "id": "305488e462bb3f11",
   "outputs": [
    {
     "name": "stdout",
     "output_type": "stream",
     "text": [
      "==================================================================================================================\n",
      "[INIT] 2.3 - Basic QA with Llama 2 and 3 [5/5]\n",
      "==================================================================================================================\n",
      "HTTP Request: POST https://api.groq.com/openai/v1/chat/completions \"HTTP/1.1 200 OK\"\n",
      "HTTP Request: POST https://api.groq.com/openai/v1/chat/completions \"HTTP/1.1 200 OK\"\n",
      "==================================================================================================================\n",
      "[EXIT] 2.3 - Basic QA with Llama 2 and 3 [5/5] ($=00:00:01.012)\n",
      "==================================================================================================================\n"
     ]
    },
    {
     "data": {
      "text/plain": [
       "<IPython.core.display.HTML object>"
      ],
      "text/html": [
       "<hr style='border:3px solid MidnightBlue; width:880px; padding:0; margin-left:0; margin-right:0; margin-top:10px; margin-bottom:15px;'>"
      ]
     },
     "metadata": {},
     "output_type": "display_data"
    },
    {
     "data": {
      "text/plain": [
       "<IPython.core.display.Markdown object>"
      ],
      "text/markdown": "The typical color of a llama can vary, but they are often seen in shades of brown, black, and white. Some llamas can be a mix of these colors, resulting in a wide range of patterns and hues. There are also certain less common colors, such as gray or roan, that can be seen in llamas. Overall, the color of a llama can be quite variable and is not strictly limited to a single shade."
     },
     "metadata": {},
     "output_type": "display_data"
    },
    {
     "data": {
      "text/plain": [
       "<IPython.core.display.HTML object>"
      ],
      "text/html": [
       "<hr style='border:3px solid MidnightBlue; width:880px; padding:0; margin-left:0; margin-right:0; margin-top:10px; margin-bottom:15px;'>"
      ]
     },
     "metadata": {},
     "output_type": "display_data"
    },
    {
     "data": {
      "text/plain": [
       "<IPython.core.display.Markdown object>"
      ],
      "text/markdown": "Brown\n\nWhile there is no \"typical\" color as llamas can be found in many colors, brown is the most common coat color for these animals. Other possible colors include white, black, grey, and various shades of tan or beige. Some llamas even have multi-colored coats with patches of different colors."
     },
     "metadata": {},
     "output_type": "display_data"
    },
    {
     "data": {
      "text/plain": [
       "<IPython.core.display.HTML object>"
      ],
      "text/html": [
       "<hr style='border:3px solid MidnightBlue; width:880px; padding:0; margin-left:0; margin-right:0; margin-top:10px; margin-bottom:15px;'>"
      ]
     },
     "metadata": {},
     "output_type": "display_data"
    }
   ],
   "execution_count": 10
  },
  {
   "metadata": {},
   "cell_type": "markdown",
   "source": "## **3 - Chat conversation**",
   "id": "7cafbf05e3b4c9c0"
  },
  {
   "metadata": {},
   "cell_type": "markdown",
   "source": "### **3.1 - Single-turn chat**",
   "id": "f712d948378b5c14"
  },
  {
   "metadata": {
    "ExecuteTime": {
     "end_time": "2024-05-03T05:26:18.363115Z",
     "start_time": "2024-05-03T05:26:14.428621Z"
    }
   },
   "cell_type": "code",
   "source": [
    "# example without previous context. LLM's are stateless and cannot understand \"they\" without previous context\n",
    "with JobTimer(\"3.1 - Single-turn chat [1/5]\", rt=1, rb=1, rw=114, rc='=', verbose=1):\n",
    "    output1 = llama2(\"What is the average lifespan of a Llama? Answer the question in few words.\")\n",
    "    output2 = llama2(\"What animal family are they? Answer the question in few words.\")\n",
    "hr()\n",
    "md(output1)\n",
    "hr()\n",
    "md(output2)\n",
    "hr()"
   ],
   "id": "554690216a856f7c",
   "outputs": [
    {
     "name": "stdout",
     "output_type": "stream",
     "text": [
      "==================================================================================================================\n",
      "[INIT] 3.1 - Single-turn chat [1/5]\n",
      "==================================================================================================================\n",
      "HTTP Request: POST https://api.replicate.com/v1/predictions \"HTTP/1.1 201 Created\"\n",
      "HTTP Request: GET https://api.replicate.com/v1/models/meta/llama-2-13b-chat/versions/f4e2de70d66816a838a89eeeb621910adffb0dd0baba3976c96980970978018d \"HTTP/1.1 200 OK\"\n",
      "HTTP Request: GET https://api.replicate.com/v1/predictions/yr8fmfev2srgg0cf7knacvadfm \"HTTP/1.1 200 OK\"\n",
      "HTTP Request: POST https://api.replicate.com/v1/predictions \"HTTP/1.1 201 Created\"\n",
      "HTTP Request: GET https://api.replicate.com/v1/models/meta/llama-2-13b-chat/versions/f4e2de70d66816a838a89eeeb621910adffb0dd0baba3976c96980970978018d \"HTTP/1.1 200 OK\"\n",
      "HTTP Request: GET https://api.replicate.com/v1/predictions/b3k5eh701xrgj0cf7knbzthkc4 \"HTTP/1.1 200 OK\"\n",
      "==================================================================================================================\n",
      "[EXIT] 3.1 - Single-turn chat [1/5] ($=00:00:03.083)\n",
      "==================================================================================================================\n"
     ]
    },
    {
     "data": {
      "text/plain": [
       "<IPython.core.display.HTML object>"
      ],
      "text/html": [
       "<hr style='border:3px solid MidnightBlue; width:880px; padding:0; margin-left:0; margin-right:0; margin-top:10px; margin-bottom:15px;'>"
      ]
     },
     "metadata": {},
     "output_type": "display_data"
    },
    {
     "data": {
      "text/plain": [
       "<IPython.core.display.Markdown object>"
      ],
      "text/markdown": " Sure, I'd be happy to help! The average lifespan of a llama is around 15-20 years."
     },
     "metadata": {},
     "output_type": "display_data"
    },
    {
     "data": {
      "text/plain": [
       "<IPython.core.display.HTML object>"
      ],
      "text/html": [
       "<hr style='border:3px solid MidnightBlue; width:880px; padding:0; margin-left:0; margin-right:0; margin-top:10px; margin-bottom:15px;'>"
      ]
     },
     "metadata": {},
     "output_type": "display_data"
    },
    {
     "data": {
      "text/plain": [
       "<IPython.core.display.Markdown object>"
      ],
      "text/markdown": " Sure, I'd be happy to help! The animal family that the question is referring to is the \"canine family,\" which includes dogs and their relatives."
     },
     "metadata": {},
     "output_type": "display_data"
    },
    {
     "data": {
      "text/plain": [
       "<IPython.core.display.HTML object>"
      ],
      "text/html": [
       "<hr style='border:3px solid MidnightBlue; width:880px; padding:0; margin-left:0; margin-right:0; margin-top:10px; margin-bottom:15px;'>"
      ]
     },
     "metadata": {},
     "output_type": "display_data"
    }
   ],
   "execution_count": 11
  },
  {
   "metadata": {
    "ExecuteTime": {
     "end_time": "2024-05-03T05:26:19.861196Z",
     "start_time": "2024-05-03T05:26:18.364591Z"
    }
   },
   "cell_type": "code",
   "source": [
    "# example without previous context. LLM's are stateless and cannot understand \"they\" without previous context\n",
    "with JobTimer(\"3.1 - Single-turn chat [2/5]\", rt=1, rb=1, rw=114, rc='=', verbose=1):\n",
    "    output1 = llama3_8b(\"What is the average lifespan of a Llama? Answer the question in few words.\")\n",
    "    output2 = llama3_8b(\"What animal family are they? Answer the question in few words.\")\n",
    "hr()\n",
    "md(output1)\n",
    "hr()\n",
    "md(output2)\n",
    "hr()"
   ],
   "id": "9db8d18c749d9b7e",
   "outputs": [
    {
     "name": "stdout",
     "output_type": "stream",
     "text": [
      "==================================================================================================================\n",
      "[INIT] 3.1 - Single-turn chat [2/5]\n",
      "==================================================================================================================\n",
      "HTTP Request: POST https://api.groq.com/openai/v1/chat/completions \"HTTP/1.1 200 OK\"\n",
      "HTTP Request: POST https://api.groq.com/openai/v1/chat/completions \"HTTP/1.1 200 OK\"\n",
      "==================================================================================================================\n",
      "[EXIT] 3.1 - Single-turn chat [2/5] ($=00:00:00.657)\n",
      "==================================================================================================================\n"
     ]
    },
    {
     "data": {
      "text/plain": [
       "<IPython.core.display.HTML object>"
      ],
      "text/html": [
       "<hr style='border:3px solid MidnightBlue; width:880px; padding:0; margin-left:0; margin-right:0; margin-top:10px; margin-bottom:15px;'>"
      ]
     },
     "metadata": {},
     "output_type": "display_data"
    },
    {
     "data": {
      "text/plain": [
       "<IPython.core.display.Markdown object>"
      ],
      "text/markdown": "15-20 years."
     },
     "metadata": {},
     "output_type": "display_data"
    },
    {
     "data": {
      "text/plain": [
       "<IPython.core.display.HTML object>"
      ],
      "text/html": [
       "<hr style='border:3px solid MidnightBlue; width:880px; padding:0; margin-left:0; margin-right:0; margin-top:10px; margin-bottom:15px;'>"
      ]
     },
     "metadata": {},
     "output_type": "display_data"
    },
    {
     "data": {
      "text/plain": [
       "<IPython.core.display.Markdown object>"
      ],
      "text/markdown": "Canidae."
     },
     "metadata": {},
     "output_type": "display_data"
    },
    {
     "data": {
      "text/plain": [
       "<IPython.core.display.HTML object>"
      ],
      "text/html": [
       "<hr style='border:3px solid MidnightBlue; width:880px; padding:0; margin-left:0; margin-right:0; margin-top:10px; margin-bottom:15px;'>"
      ]
     },
     "metadata": {},
     "output_type": "display_data"
    }
   ],
   "execution_count": 12
  },
  {
   "metadata": {
    "ExecuteTime": {
     "end_time": "2024-05-03T05:26:21.333132Z",
     "start_time": "2024-05-03T05:26:19.861912Z"
    }
   },
   "cell_type": "code",
   "source": [
    "# example without previous context. LLM's are stateless and cannot understand \"they\" without previous context\n",
    "with JobTimer(\"3.1 - Single-turn chat [3/5]\", rt=1, rb=1, rw=114, rc='=', verbose=1):\n",
    "    output1 = llama3_70b(\"What is the average lifespan of a Llama? Answer the question in few words.\")\n",
    "    output2 = llama3_70b(\"What animal family are they? Answer the question in few words.\")\n",
    "hr()\n",
    "md(output1)\n",
    "hr()\n",
    "md(output2)\n",
    "hr()"
   ],
   "id": "847ba58c280a4218",
   "outputs": [
    {
     "name": "stdout",
     "output_type": "stream",
     "text": [
      "==================================================================================================================\n",
      "[INIT] 3.1 - Single-turn chat [3/5]\n",
      "==================================================================================================================\n",
      "HTTP Request: POST https://api.groq.com/openai/v1/chat/completions \"HTTP/1.1 200 OK\"\n",
      "HTTP Request: POST https://api.groq.com/openai/v1/chat/completions \"HTTP/1.1 200 OK\"\n",
      "==================================================================================================================\n",
      "[EXIT] 3.1 - Single-turn chat [3/5] ($=00:00:00.618)\n",
      "==================================================================================================================\n"
     ]
    },
    {
     "data": {
      "text/plain": [
       "<IPython.core.display.HTML object>"
      ],
      "text/html": [
       "<hr style='border:3px solid MidnightBlue; width:880px; padding:0; margin-left:0; margin-right:0; margin-top:10px; margin-bottom:15px;'>"
      ]
     },
     "metadata": {},
     "output_type": "display_data"
    },
    {
     "data": {
      "text/plain": [
       "<IPython.core.display.Markdown object>"
      ],
      "text/markdown": "20-30 years."
     },
     "metadata": {},
     "output_type": "display_data"
    },
    {
     "data": {
      "text/plain": [
       "<IPython.core.display.HTML object>"
      ],
      "text/html": [
       "<hr style='border:3px solid MidnightBlue; width:880px; padding:0; margin-left:0; margin-right:0; margin-top:10px; margin-bottom:15px;'>"
      ]
     },
     "metadata": {},
     "output_type": "display_data"
    },
    {
     "data": {
      "text/plain": [
       "<IPython.core.display.Markdown object>"
      ],
      "text/markdown": "I'm happy to help! However, I don't see a specific animal mentioned in your question. Could you please clarify or provide more context about which animal you're referring to?"
     },
     "metadata": {},
     "output_type": "display_data"
    },
    {
     "data": {
      "text/plain": [
       "<IPython.core.display.HTML object>"
      ],
      "text/html": [
       "<hr style='border:3px solid MidnightBlue; width:880px; padding:0; margin-left:0; margin-right:0; margin-top:10px; margin-bottom:15px;'>"
      ]
     },
     "metadata": {},
     "output_type": "display_data"
    }
   ],
   "execution_count": 13
  },
  {
   "metadata": {
    "ExecuteTime": {
     "end_time": "2024-05-03T05:26:22.741714Z",
     "start_time": "2024-05-03T05:26:21.336737Z"
    }
   },
   "cell_type": "code",
   "source": [
    "# example without previous context. LLM's are stateless and cannot understand \"they\" without previous context\n",
    "with JobTimer(\"3.1 - Single-turn chat [4/5]\", rt=1, rb=1, rw=114, rc='=', verbose=1):\n",
    "    output1 = gemma(\"What is the average lifespan of a Llama? Answer the question in few words.\")\n",
    "    output2 = gemma(\"What animal family are they? Answer the question in few words.\")\n",
    "hr()\n",
    "md(output1)\n",
    "hr()\n",
    "md(output2)\n",
    "hr()"
   ],
   "id": "b26986cbbde242e8",
   "outputs": [
    {
     "name": "stdout",
     "output_type": "stream",
     "text": [
      "==================================================================================================================\n",
      "[INIT] 3.1 - Single-turn chat [4/5]\n",
      "==================================================================================================================\n",
      "HTTP Request: POST https://api.groq.com/openai/v1/chat/completions \"HTTP/1.1 200 OK\"\n",
      "HTTP Request: POST https://api.groq.com/openai/v1/chat/completions \"HTTP/1.1 200 OK\"\n",
      "==================================================================================================================\n",
      "[EXIT] 3.1 - Single-turn chat [4/5] ($=00:00:00.555)\n",
      "==================================================================================================================\n"
     ]
    },
    {
     "data": {
      "text/plain": [
       "<IPython.core.display.HTML object>"
      ],
      "text/html": [
       "<hr style='border:3px solid MidnightBlue; width:880px; padding:0; margin-left:0; margin-right:0; margin-top:10px; margin-bottom:15px;'>"
      ]
     },
     "metadata": {},
     "output_type": "display_data"
    },
    {
     "data": {
      "text/plain": [
       "<IPython.core.display.Markdown object>"
      ],
      "text/markdown": "12-15 years"
     },
     "metadata": {},
     "output_type": "display_data"
    },
    {
     "data": {
      "text/plain": [
       "<IPython.core.display.HTML object>"
      ],
      "text/html": [
       "<hr style='border:3px solid MidnightBlue; width:880px; padding:0; margin-left:0; margin-right:0; margin-top:10px; margin-bottom:15px;'>"
      ]
     },
     "metadata": {},
     "output_type": "display_data"
    },
    {
     "data": {
      "text/plain": [
       "<IPython.core.display.Markdown object>"
      ],
      "text/markdown": "Canidae.\n\nThey belong to the Canidae family, which includes dogs, wolves, coyotes, and foxes."
     },
     "metadata": {},
     "output_type": "display_data"
    },
    {
     "data": {
      "text/plain": [
       "<IPython.core.display.HTML object>"
      ],
      "text/html": [
       "<hr style='border:3px solid MidnightBlue; width:880px; padding:0; margin-left:0; margin-right:0; margin-top:10px; margin-bottom:15px;'>"
      ]
     },
     "metadata": {},
     "output_type": "display_data"
    }
   ],
   "execution_count": 14
  },
  {
   "metadata": {
    "ExecuteTime": {
     "end_time": "2024-05-03T05:26:24.524224Z",
     "start_time": "2024-05-03T05:26:22.743341Z"
    }
   },
   "cell_type": "code",
   "source": [
    "# example without previous context. LLM's are stateless and cannot understand \"they\" without previous context\n",
    "with JobTimer(\"3.1 - Single-turn chat [5/5]\", rt=1, rb=1, rw=114, rc='=', verbose=1):\n",
    "    output1 = mixtral(\"What is the average lifespan of a Llama? Answer the question in few words.\")\n",
    "    output2 = mixtral(\"What animal family are they? Answer the question in few words.\")\n",
    "hr()\n",
    "md(output1)\n",
    "hr()\n",
    "md(output2)\n",
    "hr()"
   ],
   "id": "52a3bfbefd81f55e",
   "outputs": [
    {
     "name": "stdout",
     "output_type": "stream",
     "text": [
      "==================================================================================================================\n",
      "[INIT] 3.1 - Single-turn chat [5/5]\n",
      "==================================================================================================================\n",
      "HTTP Request: POST https://api.groq.com/openai/v1/chat/completions \"HTTP/1.1 200 OK\"\n",
      "HTTP Request: POST https://api.groq.com/openai/v1/chat/completions \"HTTP/1.1 200 OK\"\n",
      "==================================================================================================================\n",
      "[EXIT] 3.1 - Single-turn chat [5/5] ($=00:00:00.940)\n",
      "==================================================================================================================\n"
     ]
    },
    {
     "data": {
      "text/plain": [
       "<IPython.core.display.HTML object>"
      ],
      "text/html": [
       "<hr style='border:3px solid MidnightBlue; width:880px; padding:0; margin-left:0; margin-right:0; margin-top:10px; margin-bottom:15px;'>"
      ]
     },
     "metadata": {},
     "output_type": "display_data"
    },
    {
     "data": {
      "text/plain": [
       "<IPython.core.display.Markdown object>"
      ],
      "text/markdown": "The average lifespan of a llama is around 15-25 years."
     },
     "metadata": {},
     "output_type": "display_data"
    },
    {
     "data": {
      "text/plain": [
       "<IPython.core.display.HTML object>"
      ],
      "text/html": [
       "<hr style='border:3px solid MidnightBlue; width:880px; padding:0; margin-left:0; margin-right:0; margin-top:10px; margin-bottom:15px;'>"
      ]
     },
     "metadata": {},
     "output_type": "display_data"
    },
    {
     "data": {
      "text/plain": [
       "<IPython.core.display.Markdown object>"
      ],
      "text/markdown": "I can't answer your question without knowing what animals you're referring to. Could you please provide more context or specify the animals you want to know about?\n\nIf you're asking about a group of animals that are known for their intelligence, social behavior, and tool use, then the animal family you might be referring to is \"Cercopithecidae,\" which includes Old World monkeys such as macaques, baboons, and langurs.\n\nIf you're asking about a group of animals that are known for their distinctive stripes and social hunting behavior, then the animal family you might be referring to is \"Felidae,\" which includes big cats such as tigers, leopards, and lions.\n\nIf you're asking about a group of animals that are known for their long necks, grazing habits, and social behavior, then the animal family you might be referring to is \"Bovidae,\" which includes antelopes, gazelles, and cattle.\n\nI hope this helps! Let me know if you have any other questions."
     },
     "metadata": {},
     "output_type": "display_data"
    },
    {
     "data": {
      "text/plain": [
       "<IPython.core.display.HTML object>"
      ],
      "text/html": [
       "<hr style='border:3px solid MidnightBlue; width:880px; padding:0; margin-left:0; margin-right:0; margin-top:10px; margin-bottom:15px;'>"
      ]
     },
     "metadata": {},
     "output_type": "display_data"
    }
   ],
   "execution_count": 15
  },
  {
   "metadata": {},
   "cell_type": "markdown",
   "source": "**Note: Llama 3 70b doesn't hallucinate.**",
   "id": "98e4863c5dd3a587"
  },
  {
   "metadata": {},
   "cell_type": "markdown",
   "source": [
    "### **3.2 - Multi-turn chat**\n",
    "Chat app requires us to send in previous context to LLM to get in valid responses. Below is an example of Multi-turn chat."
   ],
   "id": "cd8fb3eef8d283a1"
  },
  {
   "metadata": {},
   "cell_type": "code",
   "source": "mem_context()",
   "id": "dc83a7bc22016551",
   "outputs": [],
   "execution_count": null
  },
  {
   "metadata": {},
   "cell_type": "code",
   "source": [
    "# example of multi-turn chat, with storing previous context\n",
    "prompt_chat = \"\"\"\n",
    "User: What is the average lifespan of a Llama?\n",
    "Assistant: Sure! The average lifespan of a llama is around 20-30 years.\n",
    "User: What animal family are they?\n",
    "\"\"\"\n",
    "with JobTimer(\"4.1 - Chat conversation: Multi Turn (Memory)\", rt=1, rb=1, rw=114, rc='=', verbose=1):\n",
    "    output = ChatCompletion(prompt=prompt_chat, system_prompt=\"answer the last question\")\n",
    "html(output)"
   ],
   "id": "8454cb422834ea24",
   "outputs": [],
   "execution_count": null
  },
  {
   "metadata": {},
   "cell_type": "markdown",
   "source": [
    "### **4.2 - Prompt Engineering**\n",
    "* Prompt engineering refers to the science of designing effective prompts to get desired responses\n",
    "* Helps reduce hallucination"
   ],
   "id": "5ae6ff4bba0e4d4"
  },
  {
   "metadata": {},
   "cell_type": "markdown",
   "source": [
    "#### **4.2.1 - In-Context Learning (e.g. Zero-shot, Few-shot)**\n",
    "  * In-context learning - specific method of prompt engineering where demonstration of task are provided as part of prompt.\n",
    "  1. Zero-shot learning - model is performing tasks without any input examples.\n",
    "  2. Few or “N-Shot” Learning - model is performing and behaving based on input examples in user's prompt."
   ],
   "id": "195ccff05618fb37"
  },
  {
   "metadata": {},
   "cell_type": "code",
   "source": [
    "# Zero-shot example. To get positive/negative/neutral sentiment, we need to give examples in the prompt\n",
    "prompt = '''\n",
    "Classify: I saw a Gecko.\n",
    "Sentiment: ?\n",
    "'''\n",
    "with JobTimer(\"4.2.1 - In-Context Learning [1/4]\", rt=1, rb=1, rw=114, rc='=', verbose=1):\n",
    "    output = ChatCompletion(prompt, system_prompt=\"one word response\")\n",
    "html(output)"
   ],
   "id": "29b2d6ac41db8de",
   "outputs": [],
   "execution_count": null
  },
  {
   "metadata": {},
   "cell_type": "code",
   "source": [
    "# By giving examples to Llama, it understands the expected output format.\n",
    "prompt = '''\n",
    "Classify: I love Llamas!\n",
    "Sentiment: Positive\n",
    "Classify: I dont like Snakes.\n",
    "Sentiment: Negative\n",
    "Classify: I saw a Gecko.\n",
    "Sentiment:'''\n",
    "with JobTimer(\"4.2.1 - In-Context Learning [2/4]\", rt=1, rb=1, rw=114, rc='=', verbose=1):\n",
    "    output = ChatCompletion(prompt, system_prompt=\"One word response\")\n",
    "html(output)"
   ],
   "id": "82e85255a9c01c7",
   "outputs": [],
   "execution_count": null
  },
  {
   "metadata": {},
   "cell_type": "code",
   "source": [
    "# another zero-shot learning\n",
    "prompt = '''\n",
    "QUESTION: Vicuna?\n",
    "ANSWER:'''\n",
    "with JobTimer(\"4.2.1 - In-Context Learning [3/4]\", rt=1, rb=1, rw=114, rc='=', verbose=1):\n",
    "    output = ChatCompletion(prompt, system_prompt=\"one word response\")\n",
    "html(output)"
   ],
   "id": "101bb2a57686a5f9",
   "outputs": [],
   "execution_count": null
  },
  {
   "metadata": {},
   "cell_type": "code",
   "source": [
    "# Another few-shot learning example with formatted prompt.\n",
    "prompt = '''\n",
    "QUESTION: Llama?\n",
    "ANSWER: Yes\n",
    "QUESTION: Alpaca?\n",
    "ANSWER: Yes\n",
    "QUESTION: Rabbit?\n",
    "ANSWER: No\n",
    "QUESTION: Vicuna?\n",
    "ANSWER:\n",
    "'''\n",
    "with JobTimer(\"4.2.1 - In-Context Learning [4/4]\", rt=1, rb=1, rw=114, rc='=', verbose=1):\n",
    "    output = ChatCompletion(prompt, system_prompt=\"one word response\")\n",
    "html(output)"
   ],
   "id": "e202cd8ba912d8cb",
   "outputs": [],
   "execution_count": null
  },
  {
   "metadata": {},
   "cell_type": "markdown",
   "source": [
    "#### **4.2.2 - Chain of Thought**\n",
    "\"Chain of thought\" enables complex reasoning through logical step by step thinking and generates meaningful and contextually relevant responses."
   ],
   "id": "8c0eb01f03c32d83"
  },
  {
   "metadata": {},
   "cell_type": "code",
   "source": [
    "# Standard prompting\n",
    "prompt = '''\n",
    "Llama started with 5 tennis balls. It buys 2 more cans of tennis balls. Each can has 3 tennis balls. How many tennis balls does Llama have now?\n",
    "'''\n",
    "with JobTimer(\"4.2.2 - Chain of Thought [1/2]\", rt=1, rb=1, rw=114, rc='=', verbose=1):\n",
    "    output = ChatCompletion(prompt, system_prompt=\"provide short answer\")\n",
    "html(output)"
   ],
   "id": "76484a2702ce9cf5",
   "outputs": [],
   "execution_count": null
  },
  {
   "metadata": {},
   "cell_type": "code",
   "source": [
    "# Chain-Of-Thought prompting\n",
    "prompt = '''\n",
    "Llama started with 5 tennis balls. It buys 2 more cans of tennis balls. Each can has 3 tennis balls. How many tennis balls does Llama have now?\n",
    "Let's think step by step.\n",
    "'''\n",
    "with JobTimer(\"4.2.2 - Chain of Thought [2/2]\", rt=1, rb=1, rw=114, rc='=', verbose=1):\n",
    "    output = ChatCompletion(prompt, system_prompt=\"provide short answer\")\n",
    "html(output)"
   ],
   "id": "c1aaa17e88044f92",
   "outputs": [],
   "execution_count": null
  },
  {
   "metadata": {},
   "cell_type": "markdown",
   "source": [
    "### **4.3 - Retrieval Augmented Generation (RAG)**\n",
    "* Prompt Eng Limitations - Knowledge cutoff & lack of specialized data\n",
    "* Retrieval Augmented Generation(RAG) allows us to retrieve snippets of information from external data sources and augment it to the user's prompt to get tailored responses from Llama 2.\n",
    "\n",
    "For our demo, we are going to download an external PDF file from a URL and query against the content in the pdf file to get contextually relevant information back with the help of Llama!"
   ],
   "id": "2c87637f7e017552"
  },
  {
   "metadata": {},
   "cell_type": "code",
   "source": "rag_arch()",
   "id": "17bd3c2b24aa01cc",
   "outputs": [],
   "execution_count": null
  },
  {
   "metadata": {},
   "cell_type": "markdown",
   "source": [
    "#### **4.3.1 - LangChain**\n",
    "LangChain is a framework that helps make it easier to implement RAG."
   ],
   "id": "e41075a070214735"
  },
  {
   "metadata": {},
   "cell_type": "code",
   "source": "load_data_faiss_arch()",
   "id": "99da4d3309a10773",
   "outputs": [],
   "execution_count": null
  },
  {
   "metadata": {},
   "cell_type": "code",
   "source": [
    "# Step 1: load the external data source. In our case, we will load Meta’s “Responsible Use Guide” pdf document.\n",
    "with JobTimer(\"4.3.1 - LangChain [1/4]\", rt=1, rb=1, rw=114, rc='=', verbose=1):\n",
    "    loader = OnlinePDFLoader(\"https://ai.meta.com/static-resource/responsible-use-guide/\")\n",
    "    document = loader.load()\n",
    "md(f\"{type(document)} of {type(document[0])}\")"
   ],
   "id": "442bef330ddd6394",
   "outputs": [],
   "execution_count": null
  },
  {
   "metadata": {},
   "cell_type": "code",
   "source": [
    "# Step 2: Get text splits from document\n",
    "with JobTimer(\"4.3.1 - LangChain [2/4]\", rt=1, rb=1, rw=114, rc='=', verbose=1):\n",
    "    text_splitter = RecursiveCharacterTextSplitter(chunk_size=1000, chunk_overlap=20)\n",
    "    all_splits = text_splitter.split_documents(document)\n",
    "md(f\"{type(all_splits)} of {type(all_splits[0])}\")"
   ],
   "id": "9fad448a7595cc9f",
   "outputs": [],
   "execution_count": null
  },
  {
   "metadata": {},
   "cell_type": "code",
   "source": [
    "# Step 3: Use the embedding model\n",
    "with JobTimer(\"4.3.1 - LangChain [3/4]\", rt=1, rb=1, rw=114, rc='=', verbose=1):\n",
    "    model_name = \"sentence-transformers/all-mpnet-base-v2\"  # embedding model\n",
    "    model_kwargs = {\"device\": \"cpu\"}\n",
    "    model_embeddings = HuggingFaceEmbeddings(model_name=model_name, model_kwargs=model_kwargs)\n",
    "md(f\"{type(model_embeddings)}\")"
   ],
   "id": "59dd6ff691df3bf9",
   "outputs": [],
   "execution_count": null
  },
  {
   "metadata": {},
   "cell_type": "code",
   "source": [
    "# Step 4: Use vector store to store embeddings\\\n",
    "with JobTimer(\"4.3.1 - LangChain [4/4]\", rt=1, rb=1, rw=114, rc='=', verbose=1):\n",
    "    document_vector = FAISS.from_documents(all_splits, model_embeddings)\n",
    "md(f\"{type(document_vector)}\")"
   ],
   "id": "d638881dea441cc8",
   "outputs": [],
   "execution_count": null
  },
  {
   "metadata": {},
   "cell_type": "markdown",
   "source": [
    "#### **4.3.2 - LangChain Q&A Retriever**\n",
    "* ConversationalRetrievalChain\n",
    "* Query the Source documents"
   ],
   "id": "a3d7e1cf197ad834"
  },
  {
   "metadata": {},
   "cell_type": "code",
   "source": [
    "# Use the Llama 2 model hosted on Replicate\n",
    "# Temperature: Adjusts randomness of outputs, greater than 1 is random and 0 is deterministic, 0.75 is a good starting value\n",
    "# top_p: When decoding text, samples from the top p percentage of most likely tokens; lower to ignore less likely tokens\n",
    "# max_new_tokens: Maximum number of tokens to generate. A word is generally 2-3 tokens\n",
    "llm_ref = Replicate(\n",
    "    model=model_ref,\n",
    "    model_kwargs={\"temperature\": 0.75, \"top_p\": 1, \"max_new_tokens\": 1000}\n",
    ")\n",
    "\n",
    "chain = ConversationalRetrievalChain.from_llm(llm_ref, document_vector.as_retriever(), return_source_documents=True)\n",
    "md(f\"{type(chain)}\")"
   ],
   "id": "bfad7ef283df7b39",
   "outputs": [],
   "execution_count": null
  },
  {
   "metadata": {},
   "cell_type": "code",
   "source": [
    "# Query against your own data\n",
    "chat_history = []\n",
    "query = \"How is Meta approaching open science in two short sentences?\"\n",
    "with JobTimer(\"4.3.2 - LangChain Q&A Retriever [1/2]\", rt=1, rb=1, rw=114, rc='=', verbose=1):\n",
    "    result = chain.invoke({\"question\": query, \"chat_history\": chat_history})\n",
    "html(result['answer'])"
   ],
   "id": "8b8a69f63c4b1b08",
   "outputs": [],
   "execution_count": null
  },
  {
   "metadata": {},
   "cell_type": "code",
   "source": [
    "# This time your previous question and answer will be included as a chat history which will enable the ability\n",
    "# to ask follow up questions.\n",
    "chat_history = [(query, result[\"answer\"])]\n",
    "query = \"How is it benefiting the world?\"\n",
    "with JobTimer(\"4.3.2 - LangChain Q&A Retriever [2/2]\", rt=1, rb=1, rw=114, rc='=', verbose=1):\n",
    "    result = chain.invoke({\"question\": query, \"chat_history\": chat_history})\n",
    "html(result['answer'])"
   ],
   "id": "d7741a0aa701af69",
   "outputs": [],
   "execution_count": null
  },
  {
   "metadata": {},
   "cell_type": "markdown",
   "source": [
    "## **5 - Fine-Tuning Models**\n",
    "* Limitatons of Prompt Eng and RAG\n",
    "* Fine-Tuning Arch\n",
    "* Types (PEFT, LoRA, QLoRA)\n",
    "* Using PyTorch for Pre-Training & Fine-Tuning\n",
    "* Evals + Quality"
   ],
   "id": "485ed0b25f0baab6"
  },
  {
   "metadata": {},
   "cell_type": "code",
   "source": "fine_tuned_arch()",
   "id": "44df90baa5f9d992",
   "outputs": [],
   "execution_count": null
  },
  {
   "metadata": {},
   "cell_type": "markdown",
   "source": [
    "## **6 - Responsible AI**\n",
    "* Power + Responsibility\n",
    "* Hallucinations\n",
    "* Input & Output Safety\n",
    "* Red-teaming (simulating real-world cyber attackers)\n",
    "* [Responsible Use Guide](https://ai.meta.com/llama/responsible-use-guide/)"
   ],
   "id": "20d9ee189c8ef88d"
  },
  {
   "metadata": {},
   "cell_type": "markdown",
   "source": [
    "## **7 - Conclusion**\n",
    "* Active research on LLMs and Llama\n",
    "* Leverage the power of Llama and its open community\n",
    "* Safety and responsible use is paramount!\n",
    "* Call-To-Action\n",
    "  * [Replicate Free Credits](https://replicate.fyi/connect2023) for Connect attendees!\n",
    "  * This notebook is available through Llama Github recipes\n",
    "  * Use Llama in your projects and give us feedback"
   ],
   "id": "8e65302a917a841b"
  },
  {
   "metadata": {},
   "cell_type": "markdown",
   "source": [
    "#### **Resources**\n",
    "- [GitHub - Llama 2](https://github.com/facebookresearch/llama)\n",
    "- [Github - LLama 2 Recipes](https://github.com/facebookresearch/llama-recipes)\n",
    "- [Llama 2](https://ai.meta.com/llama/)\n",
    "- [Research Paper](https://ai.meta.com/research/publications/llama-2-open-foundation-and-fine-tuned-chat-models/)\n",
    "- [Model Card](https://github.com/facebookresearch/llama/blob/main/MODEL_CARD.md)\n",
    "- [Responsible Use Guide](https://ai.meta.com/llama/responsible-use-guide/)\n",
    "- [Acceptable Use Policy](https://ai.meta.com/llama/use-policy/)\n",
    "- [Replicate](https://replicate.com/meta/)\n",
    "- [LangChain](https://www.langchain.com/)"
   ],
   "id": "d201a9aa70cfcad3"
  },
  {
   "metadata": {},
   "cell_type": "markdown",
   "source": [
    "#### **Authors & Contact**\n",
    "  * asangani@meta.com, [Amit Sangani | LinkedIn](https://www.linkedin.com/in/amitsangani/)\n",
    "  * mohsena@meta.com, [Mohsen Agsen | LinkedIn](https://www.linkedin.com/in/mohsen-agsen-62a9791/)\n"
   ],
   "id": "bf0012709004082a"
  }
 ],
 "metadata": {
  "kernelspec": {
   "display_name": "Python 3 (ipykernel)",
   "language": "python",
   "name": "python3"
  },
  "language_info": {
   "codemirror_mode": {
    "name": "ipython",
    "version": 3
   },
   "file_extension": ".py",
   "mimetype": "text/x-python",
   "name": "python",
   "nbconvert_exporter": "python",
   "pygments_lexer": "ipython3",
   "version": "3.11.9"
  }
 },
 "nbformat": 4,
 "nbformat_minor": 5
}
